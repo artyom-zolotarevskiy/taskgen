{
 "cells": [
  {
   "cell_type": "markdown",
   "id": "41be6c60",
   "metadata": {
    "scrolled": true
   },
   "source": [
    "# Установка"
   ]
  },
  {
   "cell_type": "markdown",
   "id": "86874552",
   "metadata": {},
   "source": [
    "## 1. Установка python пакета taskgen"
   ]
  },
  {
   "cell_type": "code",
   "execution_count": null,
   "id": "293e799c",
   "metadata": {},
   "outputs": [],
   "source": [
    "!pip install -r requirements.txt"
   ]
  },
  {
   "cell_type": "code",
   "execution_count": null,
   "id": "105b6795",
   "metadata": {},
   "outputs": [],
   "source": [
    "!pip install -e ."
   ]
  },
  {
   "cell_type": "markdown",
   "id": "754a3d12",
   "metadata": {},
   "source": [
    "## 2. Установка LaTeX пакета в систему MiKTex\n",
    "Пакет для установки расположен в \"./settings/taskgen.sty\""
   ]
  },
  {
   "cell_type": "markdown",
   "id": "ff62abbc",
   "metadata": {},
   "source": [
    "# Панель управления"
   ]
  },
  {
   "cell_type": "code",
   "execution_count": 1,
   "id": "d5aaeba6",
   "metadata": {},
   "outputs": [],
   "source": [
    "import taskgen"
   ]
  },
  {
   "cell_type": "markdown",
   "id": "6eb311e8",
   "metadata": {},
   "source": [
    "## Статистика банка задач\n",
    "count_tasks() - считает количество задач\n",
    "\n",
    "count_tex_substitutions() - считает количество подстановок в формате TeX\n",
    "\n",
    "count_html_substitutions() - считает количество подстановок в формате HTML"
   ]
  },
  {
   "cell_type": "code",
   "execution_count": 4,
   "id": "c19f8a46",
   "metadata": {},
   "outputs": [
    {
     "data": {
      "text/plain": [
       "(6, 300, 300)"
      ]
     },
     "execution_count": 4,
     "metadata": {},
     "output_type": "execute_result"
    }
   ],
   "source": [
    "taskgen.count_tasks(), taskgen.count_tex_substitutions(), taskgen.count_html_substitutions()"
   ]
  },
  {
   "cell_type": "markdown",
   "id": "627e1809",
   "metadata": {},
   "source": [
    "## Генерация подстановок\n",
    "В папке каждой задачи в подпаке \"substitutions\" создает n подстановок в TeX и HTML форматах."
   ]
  },
  {
   "cell_type": "code",
   "execution_count": 6,
   "id": "8bb16c32",
   "metadata": {},
   "outputs": [
    {
     "name": "stderr",
     "output_type": "stream",
     "text": [
      "15:08:49: \"bank/Q5/5. Выборки из конечных совокупностей - x2/5.1\" json файл с данными для подстановок создан\n",
      "15:08:49: \"bank/Q1/5. Выборки из конечных совокупностей - x2/5.1\" json файл с данными для подстановок создан\n",
      "15:08:49: \"bank/Q2/5. Выборки из конечных совокупностей - x2/5.1\" json файл с данными для подстановок создан\n",
      "15:08:49: \"bank/Q4/5. Выборки из конечных совокупностей - x2/5.1\" json файл с данными для подстановок создан\n",
      "15:08:49: \"bank/Q3/5. Выборки из конечных совокупностей - x2/5.1\" json файл с данными для подстановок создан\n",
      "15:08:49: \"bank/Q6/5. Выборки из конечных совокупностей - x2/5.1\" json файл с данными для подстановок создан\n",
      "15:08:49: Генерация подстановочных данных завершена!\n",
      "15:08:49: bank/Q6/5. Выборки из конечных совокупностей - x2/5.1\" TeX файлы с подстановками созданы\n",
      "15:08:49: bank/Q1/5. Выборки из конечных совокупностей - x2/5.1\" TeX файлы с подстановками созданы\n",
      "15:08:49: bank/Q2/5. Выборки из конечных совокупностей - x2/5.1\" TeX файлы с подстановками созданы\n",
      "15:08:49: bank/Q5/5. Выборки из конечных совокупностей - x2/5.1\" TeX файлы с подстановками созданы\n",
      "15:08:49: bank/Q4/5. Выборки из конечных совокупностей - x2/5.1\" TeX файлы с подстановками созданы\n",
      "15:08:49: bank/Q3/5. Выборки из конечных совокупностей - x2/5.1\" TeX файлы с подстановками созданы\n",
      "15:08:49: Генерация TeX файлов с подстановками завершена!\n",
      "15:08:50: Конвертируем файл /Users/artyomzolotarevskiy/Documents/университет/ryabov/taskgen/bank/Q2/5. Выборки из конечных совокупностей - x2/5.1/substitutions/tex/substitutions_merged.tex...\n",
      "15:08:51: Конвертируем файл /Users/artyomzolotarevskiy/Documents/университет/ryabov/taskgen/bank/Q5/5. Выборки из конечных совокупностей - x2/5.1/substitutions/tex/substitutions_merged.tex...\n",
      "15:08:51: Конвертируем файл /Users/artyomzolotarevskiy/Documents/университет/ryabov/taskgen/bank/Q6/5. Выборки из конечных совокупностей - x2/5.1/substitutions/tex/substitutions_merged.tex...\n",
      "15:08:51: Конвертируем файл /Users/artyomzolotarevskiy/Documents/университет/ryabov/taskgen/bank/Q1/5. Выборки из конечных совокупностей - x2/5.1/substitutions/tex/substitutions_merged.tex...\n",
      "15:08:51: Конвертируем файл /Users/artyomzolotarevskiy/Documents/университет/ryabov/taskgen/bank/Q4/5. Выборки из конечных совокупностей - x2/5.1/substitutions/tex/substitutions_merged.tex...\n",
      "15:08:51: Конвертируем файл /Users/artyomzolotarevskiy/Documents/университет/ryabov/taskgen/bank/Q3/5. Выборки из конечных совокупностей - x2/5.1/substitutions/tex/substitutions_merged.tex...\n",
      "15:08:58: Удаляем временные файлы для /Users/artyomzolotarevskiy/Documents/университет/ryabov/taskgen/bank/Q2/5. Выборки из конечных совокупностей - x2/5.1/substitutions/tex/substitutions_merged.tex...\n",
      "15:08:58: Удаляем временные файлы для /Users/artyomzolotarevskiy/Documents/университет/ryabov/taskgen/bank/Q6/5. Выборки из конечных совокупностей - x2/5.1/substitutions/tex/substitutions_merged.tex...\n",
      "15:08:58: Удаляем временные файлы для /Users/artyomzolotarevskiy/Documents/университет/ryabov/taskgen/bank/Q5/5. Выборки из конечных совокупностей - x2/5.1/substitutions/tex/substitutions_merged.tex...\n",
      "15:08:58: Удаляем временные файлы для /Users/artyomzolotarevskiy/Documents/университет/ryabov/taskgen/bank/Q4/5. Выборки из конечных совокупностей - x2/5.1/substitutions/tex/substitutions_merged.tex...\n",
      "15:08:58: Удаляем временные файлы для /Users/artyomzolotarevskiy/Documents/университет/ryabov/taskgen/bank/Q1/5. Выборки из конечных совокупностей - x2/5.1/substitutions/tex/substitutions_merged.tex...\n",
      "15:08:58: Удаляем временные файлы для /Users/artyomzolotarevskiy/Documents/университет/ryabov/taskgen/bank/Q3/5. Выборки из конечных совокупностей - x2/5.1/substitutions/tex/substitutions_merged.tex...\n",
      "15:08:59: Файлы подстановок сконвертированы в HTML!\n"
     ]
    },
    {
     "name": "stdout",
     "output_type": "stream",
     "text": [
      "[None, None, None, None, None, None]\n",
      "\u001b[37m[STATUS]  \u001b[0mmake4ht: Conversion started\n",
      "\u001b[37m[STATUS]  \u001b[0mmake4ht: Input file: /Users/artyomzolotarevskiy/Documents/университет/ryabov/taskgen/bank/Q6/5. Выборки из конечных совокупностей - x2/5.1/substitutions/tex/substitutions_merged.tex\n",
      "\u001b[37m[STATUS]  \u001b[0mmake4ht: Conversion finished\n",
      "\n",
      "\u001b[37m[STATUS]  \u001b[0mmake4ht: Conversion started\n",
      "\u001b[37m[STATUS]  \u001b[0mmake4ht: Input file: /Users/artyomzolotarevskiy/Documents/университет/ryabov/taskgen/bank/Q4/5. Выборки из конечных совокупностей - x2/5.1/substitutions/tex/substitutions_merged.tex\n",
      "\u001b[37m[STATUS]  \u001b[0mmake4ht: Conversion finished\n",
      "\n",
      "\u001b[37m[STATUS]  \u001b[0mmake4ht: Conversion started\n",
      "\u001b[37m[STATUS]  \u001b[0mmake4ht: Input file: /Users/artyomzolotarevskiy/Documents/университет/ryabov/taskgen/bank/Q2/5. Выборки из конечных совокупностей - x2/5.1/substitutions/tex/substitutions_merged.tex\n",
      "\u001b[37m[STATUS]  \u001b[0mmake4ht: Conversion finished\n",
      "\n",
      "\u001b[37m[STATUS]  \u001b[0mmake4ht: Conversion started\n",
      "\u001b[37m[STATUS]  \u001b[0mmake4ht: Input file: /Users/artyomzolotarevskiy/Documents/университет/ryabov/taskgen/bank/Q1/5. Выборки из конечных совокупностей - x2/5.1/substitutions/tex/substitutions_merged.tex\n",
      "\u001b[37m[STATUS]  \u001b[0mmake4ht: Conversion finished\n",
      "\n",
      "\u001b[37m[STATUS]  \u001b[0mmake4ht: Conversion started\n",
      "\u001b[37m[STATUS]  \u001b[0mmake4ht: Input file: /Users/artyomzolotarevskiy/Documents/университет/ryabov/taskgen/bank/Q5/5. Выборки из конечных совокупностей - x2/5.1/substitutions/tex/substitutions_merged.tex\n",
      "\u001b[37m[STATUS]  \u001b[0mmake4ht: Conversion finished\n",
      "\n",
      "\u001b[37m[STATUS]  \u001b[0mmake4ht: Conversion started\n",
      "\u001b[37m[STATUS]  \u001b[0mmake4ht: Input file: /Users/artyomzolotarevskiy/Documents/университет/ryabov/taskgen/bank/Q3/5. Выборки из конечных совокупностей - x2/5.1/substitutions/tex/substitutions_merged.tex\n",
      "\u001b[37m[STATUS]  \u001b[0mmake4ht: Conversion finished\n",
      "\n",
      "CPU times: user 71.3 ms, sys: 216 ms, total: 287 ms\n",
      "Wall time: 15.7 s\n"
     ]
    }
   ],
   "source": [
    "%%time\n",
    "taskgen.gen_bank(n=50)"
   ]
  },
  {
   "cell_type": "markdown",
   "id": "9c27e4c4",
   "metadata": {},
   "source": [
    "## Сборка вариантов\n",
    "На основе подстановок, созданных на прошлом этапе, собирает итоговые варианты в TeX и HTML форматах."
   ]
  },
  {
   "cell_type": "code",
   "execution_count": 7,
   "id": "413a0fcf",
   "metadata": {},
   "outputs": [
    {
     "name": "stderr",
     "output_type": "stream",
     "text": [
      "15:09:05: Создаем структуру билета № 10...\n",
      "15:09:05: Создаем структуру билета № 11...\n",
      "15:09:05: Создаем структуру билета № 12...\n",
      "15:09:05: Создаем структуру билета № 13...\n",
      "15:09:05: Создаем структуру билета № 14...\n",
      "15:09:05: Создаем структуру билета № 15...\n",
      "15:09:05: Создаем структуру билета № 16...\n",
      "15:09:05: Создаем структуру билета № 17...\n",
      "15:09:05: Создаем структуру билета № 18...\n",
      "15:09:05: Создаем структуру билета № 19...\n",
      "15:09:05: Структура вариантов создана!\n",
      "15:09:05: Создаем билет № 10 в TeX формате...\n",
      "15:09:05: Билет № 10 в TeX формате создан!\n",
      "15:09:05: Создаем билет № 10 в HTML формате с решением...\n",
      "15:09:05: Билет № 10 в HTML формате с решением создан!\n",
      "15:09:05: Создаем билет № 10 в HTML формате без решения...\n",
      "15:09:05: Билет № 10 в HTML формате без решения создан!\n",
      "15:09:05: Создаем билет № 11 в TeX формате...\n",
      "15:09:05: Билет № 11 в TeX формате создан!\n",
      "15:09:05: Создаем билет № 11 в HTML формате с решением...\n",
      "15:09:05: Билет № 11 в HTML формате с решением создан!\n",
      "15:09:05: Создаем билет № 11 в HTML формате без решения...\n",
      "15:09:05: Билет № 11 в HTML формате без решения создан!\n",
      "15:09:05: Создаем билет № 12 в TeX формате...\n",
      "15:09:05: Билет № 12 в TeX формате создан!\n",
      "15:09:05: Создаем билет № 12 в HTML формате с решением...\n",
      "15:09:05: Билет № 12 в HTML формате с решением создан!\n",
      "15:09:05: Создаем билет № 12 в HTML формате без решения...\n",
      "15:09:05: Билет № 12 в HTML формате без решения создан!\n",
      "15:09:05: Создаем билет № 13 в TeX формате...\n",
      "15:09:05: Билет № 13 в TeX формате создан!\n",
      "15:09:05: Создаем билет № 13 в HTML формате с решением...\n",
      "15:09:05: Билет № 13 в HTML формате с решением создан!\n",
      "15:09:05: Создаем билет № 13 в HTML формате без решения...\n",
      "15:09:05: Билет № 13 в HTML формате без решения создан!\n",
      "15:09:05: Создаем билет № 14 в TeX формате...\n",
      "15:09:05: Билет № 14 в TeX формате создан!\n",
      "15:09:05: Создаем билет № 14 в HTML формате с решением...\n",
      "15:09:05: Билет № 14 в HTML формате с решением создан!\n",
      "15:09:05: Создаем билет № 14 в HTML формате без решения...\n",
      "15:09:05: Билет № 14 в HTML формате без решения создан!\n",
      "15:09:05: Создаем билет № 15 в TeX формате...\n",
      "15:09:05: Билет № 15 в TeX формате создан!\n",
      "15:09:05: Создаем билет № 15 в HTML формате с решением...\n",
      "15:09:05: Билет № 15 в HTML формате с решением создан!\n",
      "15:09:05: Создаем билет № 15 в HTML формате без решения...\n",
      "15:09:05: Билет № 15 в HTML формате без решения создан!\n",
      "15:09:05: Создаем билет № 16 в TeX формате...\n",
      "15:09:05: Билет № 16 в TeX формате создан!\n",
      "15:09:05: Создаем билет № 16 в HTML формате с решением...\n",
      "15:09:05: Билет № 16 в HTML формате с решением создан!\n",
      "15:09:05: Создаем билет № 16 в HTML формате без решения...\n",
      "15:09:05: Билет № 16 в HTML формате без решения создан!\n",
      "15:09:05: Создаем билет № 17 в TeX формате...\n",
      "15:09:05: Билет № 17 в TeX формате создан!\n",
      "15:09:05: Создаем билет № 17 в HTML формате с решением...\n",
      "15:09:05: Билет № 17 в HTML формате с решением создан!\n",
      "15:09:05: Создаем билет № 17 в HTML формате без решения...\n",
      "15:09:05: Билет № 17 в HTML формате без решения создан!\n",
      "15:09:05: Создаем билет № 18 в TeX формате...\n",
      "15:09:05: Билет № 18 в TeX формате создан!\n",
      "15:09:05: Создаем билет № 18 в HTML формате с решением...\n",
      "15:09:05: Билет № 18 в HTML формате с решением создан!\n",
      "15:09:05: Создаем билет № 18 в HTML формате без решения...\n",
      "15:09:05: Билет № 18 в HTML формате без решения создан!\n",
      "15:09:05: Создаем билет № 19 в TeX формате...\n",
      "15:09:05: Билет № 19 в TeX формате создан!\n",
      "15:09:05: Создаем билет № 19 в HTML формате с решением...\n",
      "15:09:05: Билет № 19 в HTML формате с решением создан!\n",
      "15:09:05: Создаем билет № 19 в HTML формате без решения...\n",
      "15:09:05: Билет № 19 в HTML формате без решения создан!\n",
      "15:09:05: Объединенный файл вариантов в TeX формате создан!\n",
      "15:09:05: Объединенный файл вариантов в HTML формате с решениями создан!\n",
      "15:09:05: Объединенный файл вариантов в HTML формате без решений создан!\n",
      "15:09:05: Файлы вариантов сгенерированы!\n"
     ]
    }
   ],
   "source": [
    "taskgen.make_variants(size=10, start=10)"
   ]
  },
  {
   "cell_type": "markdown",
   "id": "1ce73ab5",
   "metadata": {},
   "source": [
    "## Создание объединенного файла со всеми подстановками\n",
    "Генерирует 2 файла в форматах TeX и HTML, содержащие все подстановки всех задач. \n",
    "\n",
    "Позволяет проверить корректность конвертации из TeX в HTML всего банка. "
   ]
  },
  {
   "cell_type": "code",
   "execution_count": 4,
   "id": "b9c7f734",
   "metadata": {},
   "outputs": [
    {
     "name": "stderr",
     "output_type": "stream",
     "text": [
      "15:36:37: Создаем билет № all-substitutions в TeX формате...\n",
      "15:36:38: Билет № all-substitutions в TeX формате создан!\n",
      "15:36:38: Создаем билет № all-substitutions в HTML формате с решением...\n",
      "15:36:38: Билет № all-substitutions в HTML формате с решением создан!\n",
      "15:36:38: Объединенные файлы всех подстановок в TeX и HTML форматах созданы!\n"
     ]
    }
   ],
   "source": [
    "taskgen.merge_all_substitutions()"
   ]
  },
  {
   "cell_type": "markdown",
   "id": "54b8f44c",
   "metadata": {},
   "source": [
    "## Создание масштабированных PDF файлов вариантов\n",
    "Все варианты конвертируются из HTML в PDF. \n",
    "\n",
    "1 вариант занимает целиком лист А4."
   ]
  },
  {
   "cell_type": "code",
   "execution_count": 8,
   "id": "fe3b1cf3",
   "metadata": {},
   "outputs": [
    {
     "name": "stderr",
     "output_type": "stream",
     "text": [
      "\n",
      "\n",
      "15:09:12: \n",
      "\n",
      "====== WebDriver manager ======\n",
      "15:09:12: ====== WebDriver manager ======\n",
      "Current google-chrome version is 110.0.5481\n",
      "15:12:36: Current google-chrome version is 110.0.5481\n",
      "Get LATEST chromedriver version for 110.0.5481 google-chrome\n",
      "15:12:36: Get LATEST chromedriver version for 110.0.5481 google-chrome\n",
      "There is no [mac64] chromedriver for browser 110.0.5481 in cache\n",
      "15:12:37: There is no [mac64] chromedriver for browser 110.0.5481 in cache\n",
      "Trying to download new driver from https://chromedriver.storage.googleapis.com/110.0.5481.77/chromedriver_mac64.zip\n",
      "15:12:37: Trying to download new driver from https://chromedriver.storage.googleapis.com/110.0.5481.77/chromedriver_mac64.zip\n",
      "Driver has been saved in cache [/Users/artyomzolotarevskiy/.wdm/drivers/chromedriver/mac64/110.0.5481.77]\n",
      "15:12:38: Driver has been saved in cache [/Users/artyomzolotarevskiy/.wdm/drivers/chromedriver/mac64/110.0.5481.77]\n"
     ]
    },
    {
     "name": "stdout",
     "output_type": "stream",
     "text": [
      "Открываем файл: variant-10-only-problem.html\n",
      "Дожидаемся полной инициализации...\n",
      "Подбираем коэффициент масштабирования...\n",
      "Сохраняем файл... \n",
      "\n",
      "Открываем файл: variant-10-with-solution.html\n",
      "Дожидаемся полной инициализации...\n",
      "Подбираем коэффициент масштабирования...\n",
      "Сохраняем файл... \n",
      "\n",
      "Открываем файл: variant-11-only-problem.html\n",
      "Дожидаемся полной инициализации...\n",
      "Подбираем коэффициент масштабирования...\n",
      "Сохраняем файл... \n",
      "\n",
      "Открываем файл: variant-11-with-solution.html\n",
      "Дожидаемся полной инициализации...\n",
      "Подбираем коэффициент масштабирования...\n",
      "Сохраняем файл... \n",
      "\n",
      "Открываем файл: variant-12-only-problem.html\n",
      "Дожидаемся полной инициализации...\n",
      "Подбираем коэффициент масштабирования...\n",
      "Сохраняем файл... \n",
      "\n",
      "Открываем файл: variant-12-with-solution.html\n",
      "Дожидаемся полной инициализации...\n",
      "Подбираем коэффициент масштабирования...\n",
      "Сохраняем файл... \n",
      "\n",
      "Открываем файл: variant-13-only-problem.html\n",
      "Дожидаемся полной инициализации...\n",
      "Подбираем коэффициент масштабирования...\n",
      "Сохраняем файл... \n",
      "\n",
      "Открываем файл: variant-13-with-solution.html\n",
      "Дожидаемся полной инициализации...\n",
      "Подбираем коэффициент масштабирования...\n",
      "Сохраняем файл... \n",
      "\n",
      "Открываем файл: variant-14-only-problem.html\n",
      "Дожидаемся полной инициализации...\n",
      "Подбираем коэффициент масштабирования...\n",
      "Сохраняем файл... \n",
      "\n",
      "Открываем файл: variant-14-with-solution.html\n",
      "Дожидаемся полной инициализации...\n",
      "Подбираем коэффициент масштабирования...\n",
      "Сохраняем файл... \n",
      "\n",
      "Открываем файл: variant-15-only-problem.html\n",
      "Дожидаемся полной инициализации...\n",
      "Подбираем коэффициент масштабирования...\n",
      "Сохраняем файл... \n",
      "\n",
      "Открываем файл: variant-15-with-solution.html\n",
      "Дожидаемся полной инициализации...\n",
      "Подбираем коэффициент масштабирования...\n",
      "Сохраняем файл... \n",
      "\n",
      "Открываем файл: variant-16-only-problem.html\n",
      "Дожидаемся полной инициализации...\n",
      "Подбираем коэффициент масштабирования...\n",
      "Сохраняем файл... \n",
      "\n",
      "Открываем файл: variant-16-with-solution.html\n",
      "Дожидаемся полной инициализации...\n",
      "Подбираем коэффициент масштабирования...\n",
      "Сохраняем файл... \n",
      "\n",
      "Открываем файл: variant-17-only-problem.html\n",
      "Дожидаемся полной инициализации...\n",
      "Подбираем коэффициент масштабирования...\n",
      "Сохраняем файл... \n",
      "\n",
      "Открываем файл: variant-17-with-solution.html\n",
      "Дожидаемся полной инициализации...\n",
      "Подбираем коэффициент масштабирования...\n",
      "Сохраняем файл... \n",
      "\n",
      "Открываем файл: variant-18-only-problem.html\n",
      "Дожидаемся полной инициализации...\n",
      "Подбираем коэффициент масштабирования...\n",
      "Сохраняем файл... \n",
      "\n",
      "Открываем файл: variant-18-with-solution.html\n",
      "Дожидаемся полной инициализации...\n",
      "Подбираем коэффициент масштабирования...\n",
      "Сохраняем файл... \n",
      "\n",
      "Открываем файл: variant-19-only-problem.html\n",
      "Дожидаемся полной инициализации...\n",
      "Подбираем коэффициент масштабирования...\n",
      "Сохраняем файл... \n",
      "\n",
      "Открываем файл: variant-19-with-solution.html\n",
      "Дожидаемся полной инициализации...\n",
      "Подбираем коэффициент масштабирования...\n",
      "Сохраняем файл... \n",
      "\n",
      "Открываем файл: variants_merged_only_problem.html\n",
      "Дожидаемся полной инициализации...\n",
      "Подбираем коэффициент масштабирования...\n"
     ]
    },
    {
     "ename": "Exception",
     "evalue": "{\"value\":{\"error\":\"invalid argument\",\"message\":\"invalid argument: scale is outside of [0.1 - 2] range\\n  (Session info: headless chrome=110.0.5481.100)\",\"stacktrace\":\"0   chromedriver                        0x00000001004b8138 chromedriver + 4923704\\n1   chromedriver                        0x00000001004309d3 chromedriver + 4368851\\n2   chromedriver                        0x0000000100079787 chromedriver + 472967\\n3   chromedriver                        0x0000000100062723 chromedriver + 378659\\n4   chromedriver                        0x00000001000602d6 chromedriver + 369366\\n5   chromedriver                        0x00000001000605ec chromedriver + 370156\\n6   chromedriver                        0x0000000100060544 chromedriver + 369988\\n7   chromedriver                        0x000000010007c006 chromedriver + 483334\\n8   chromedriver                        0x000000010010fa86 chromedriver + 1088134\\n9   chromedriver                        0x00000001000e6fb2 chromedriver + 921522\\n10  chromedriver                        0x0000000100101c0f chromedriver + 1031183\\n11  chromedriver                        0x00000001000e6d23 chromedriver + 920867\\n12  chromedriver                        0x00000001000ada4b chromedriver + 686667\\n13  chromedriver                        0x00000001000af044 chromedriver + 692292\\n14  chromedriver                        0x00000001004838fe chromedriver + 4708606\\n15  chromedriver                        0x0000000100488e22 chromedriver + 4730402\\n16  chromedriver                        0x00000001004916bf chromedriver + 4765375\\n17  chromedriver                        0x0000000100489e80 chromedriver + 4734592\\n18  chromedriver                        0x000000010045a975 chromedriver + 4540789\\n19  chromedriver                        0x00000001004abe78 chromedriver + 4873848\\n20  chromedriver                        0x00000001004abff5 chromedriver + 4874229\\n21  chromedriver                        0x00000001004c06de chromedriver + 4957918\\n22  libsystem_pthread.dylib             0x00007ff81f88d4f4 _pthread_start + 125\\n23  libsystem_pthread.dylib             0x00007ff81f88900f thread_start + 15\\n\"}}",
     "output_type": "error",
     "traceback": [
      "\u001b[0;31m---------------------------------------------------------------------------\u001b[0m",
      "\u001b[0;31mException\u001b[0m                                 Traceback (most recent call last)",
      "\u001b[0;32m<timed eval>\u001b[0m in \u001b[0;36m<module>\u001b[0;34m\u001b[0m\n",
      "\u001b[0;32m~/Documents/университет/ryabov/taskgen/taskgen/generator.py\u001b[0m in \u001b[0;36mvariants2pdf\u001b[0;34m()\u001b[0m\n\u001b[1;32m    676\u001b[0m \u001b[0;34m\u001b[0m\u001b[0m\n\u001b[1;32m    677\u001b[0m \u001b[0;31m# конвертируем html файлы вариантов в pdf\u001b[0m\u001b[0;34m\u001b[0m\u001b[0;34m\u001b[0m\u001b[0m\n\u001b[0;32m--> 678\u001b[0;31m \u001b[0;32mdef\u001b[0m \u001b[0mvariants2pdf\u001b[0m\u001b[0;34m(\u001b[0m\u001b[0;34m)\u001b[0m\u001b[0;34m:\u001b[0m\u001b[0;34m\u001b[0m\u001b[0;34m\u001b[0m\u001b[0m\n\u001b[0m\u001b[1;32m    679\u001b[0m     html2pdf(os.path.join(os.getcwd(), 'results', 'html'), \\\n\u001b[1;32m    680\u001b[0m              os.path.join(os.getcwd(), 'results', 'pdf'), in_one_page=True)\n",
      "\u001b[0;32m~/Documents/университет/ryabov/taskgen/taskgen/html2pdf.py\u001b[0m in \u001b[0;36mhtml2pdf\u001b[0;34m(source, output, in_one_page, scale_step)\u001b[0m\n\u001b[1;32m     83\u001b[0m             \u001b[0mprint\u001b[0m\u001b[0;34m(\u001b[0m\u001b[0;34m'Подбираем коэффициент масштабирования...'\u001b[0m\u001b[0;34m)\u001b[0m\u001b[0;34m\u001b[0m\u001b[0;34m\u001b[0m\u001b[0m\n\u001b[1;32m     84\u001b[0m             \u001b[0;32mwhile\u001b[0m \u001b[0;36m0\u001b[0m \u001b[0;34m<\u001b[0m \u001b[0mprint_options\u001b[0m\u001b[0;34m[\u001b[0m\u001b[0;34m'scale'\u001b[0m\u001b[0;34m]\u001b[0m \u001b[0;34m<\u001b[0m \u001b[0;36m2\u001b[0m\u001b[0;34m:\u001b[0m\u001b[0;34m\u001b[0m\u001b[0;34m\u001b[0m\u001b[0m\n\u001b[0;32m---> 85\u001b[0;31m                 \u001b[0mresult\u001b[0m \u001b[0;34m=\u001b[0m \u001b[0msend_devtools\u001b[0m\u001b[0;34m(\u001b[0m\u001b[0mdriver\u001b[0m\u001b[0;34m,\u001b[0m \u001b[0;34m\"Page.printToPDF\"\u001b[0m\u001b[0;34m,\u001b[0m \u001b[0mprint_options\u001b[0m\u001b[0;34m)\u001b[0m\u001b[0;34m\u001b[0m\u001b[0;34m\u001b[0m\u001b[0m\n\u001b[0m\u001b[1;32m     86\u001b[0m                 \u001b[0mresult\u001b[0m \u001b[0;34m=\u001b[0m \u001b[0mbase64\u001b[0m\u001b[0;34m.\u001b[0m\u001b[0mb64decode\u001b[0m\u001b[0;34m(\u001b[0m\u001b[0mresult\u001b[0m\u001b[0;34m[\u001b[0m\u001b[0;34m'data'\u001b[0m\u001b[0;34m]\u001b[0m\u001b[0;34m)\u001b[0m\u001b[0;34m\u001b[0m\u001b[0;34m\u001b[0m\u001b[0m\n\u001b[1;32m     87\u001b[0m \u001b[0;34m\u001b[0m\u001b[0m\n",
      "\u001b[0;32m~/Documents/университет/ryabov/taskgen/taskgen/html2pdf.py\u001b[0m in \u001b[0;36msend_devtools\u001b[0;34m(driver, cmd, params)\u001b[0m\n\u001b[1;32m     35\u001b[0m     \u001b[0mresponse\u001b[0m \u001b[0;34m=\u001b[0m \u001b[0mdriver\u001b[0m\u001b[0;34m.\u001b[0m\u001b[0mcommand_executor\u001b[0m\u001b[0;34m.\u001b[0m\u001b[0m_request\u001b[0m\u001b[0;34m(\u001b[0m\u001b[0;34m'POST'\u001b[0m\u001b[0;34m,\u001b[0m \u001b[0murl\u001b[0m\u001b[0;34m,\u001b[0m \u001b[0mbody\u001b[0m\u001b[0;34m)\u001b[0m\u001b[0;34m\u001b[0m\u001b[0;34m\u001b[0m\u001b[0m\n\u001b[1;32m     36\u001b[0m     \u001b[0;32mif\u001b[0m \u001b[0mresponse\u001b[0m\u001b[0;34m.\u001b[0m\u001b[0mget\u001b[0m\u001b[0;34m(\u001b[0m\u001b[0;34m'status'\u001b[0m\u001b[0;34m)\u001b[0m\u001b[0;34m:\u001b[0m\u001b[0;34m\u001b[0m\u001b[0;34m\u001b[0m\u001b[0m\n\u001b[0;32m---> 37\u001b[0;31m         \u001b[0;32mraise\u001b[0m \u001b[0mException\u001b[0m\u001b[0;34m(\u001b[0m\u001b[0mresponse\u001b[0m\u001b[0;34m.\u001b[0m\u001b[0mget\u001b[0m\u001b[0;34m(\u001b[0m\u001b[0;34m'value'\u001b[0m\u001b[0;34m)\u001b[0m\u001b[0;34m)\u001b[0m\u001b[0;34m\u001b[0m\u001b[0;34m\u001b[0m\u001b[0m\n\u001b[0m\u001b[1;32m     38\u001b[0m     \u001b[0;32mreturn\u001b[0m \u001b[0mresponse\u001b[0m\u001b[0;34m.\u001b[0m\u001b[0mget\u001b[0m\u001b[0;34m(\u001b[0m\u001b[0;34m'value'\u001b[0m\u001b[0;34m)\u001b[0m\u001b[0;34m\u001b[0m\u001b[0;34m\u001b[0m\u001b[0m\n\u001b[1;32m     39\u001b[0m \u001b[0;34m\u001b[0m\u001b[0m\n",
      "\u001b[0;31mException\u001b[0m: {\"value\":{\"error\":\"invalid argument\",\"message\":\"invalid argument: scale is outside of [0.1 - 2] range\\n  (Session info: headless chrome=110.0.5481.100)\",\"stacktrace\":\"0   chromedriver                        0x00000001004b8138 chromedriver + 4923704\\n1   chromedriver                        0x00000001004309d3 chromedriver + 4368851\\n2   chromedriver                        0x0000000100079787 chromedriver + 472967\\n3   chromedriver                        0x0000000100062723 chromedriver + 378659\\n4   chromedriver                        0x00000001000602d6 chromedriver + 369366\\n5   chromedriver                        0x00000001000605ec chromedriver + 370156\\n6   chromedriver                        0x0000000100060544 chromedriver + 369988\\n7   chromedriver                        0x000000010007c006 chromedriver + 483334\\n8   chromedriver                        0x000000010010fa86 chromedriver + 1088134\\n9   chromedriver                        0x00000001000e6fb2 chromedriver + 921522\\n10  chromedriver                        0x0000000100101c0f chromedriver + 1031183\\n11  chromedriver                        0x00000001000e6d23 chromedriver + 920867\\n12  chromedriver                        0x00000001000ada4b chromedriver + 686667\\n13  chromedriver                        0x00000001000af044 chromedriver + 692292\\n14  chromedriver                        0x00000001004838fe chromedriver + 4708606\\n15  chromedriver                        0x0000000100488e22 chromedriver + 4730402\\n16  chromedriver                        0x00000001004916bf chromedriver + 4765375\\n17  chromedriver                        0x0000000100489e80 chromedriver + 4734592\\n18  chromedriver                        0x000000010045a975 chromedriver + 4540789\\n19  chromedriver                        0x00000001004abe78 chromedriver + 4873848\\n20  chromedriver                        0x00000001004abff5 chromedriver + 4874229\\n21  chromedriver                        0x00000001004c06de chromedriver + 4957918\\n22  libsystem_pthread.dylib             0x00007ff81f88d4f4 _pthread_start + 125\\n23  libsystem_pthread.dylib             0x00007ff81f88900f thread_start + 15\\n\"}}"
     ]
    }
   ],
   "source": [
    "%%time\n",
    "# конвертируем html версии вариантов в pdf\n",
    "# результаты лежат в папке results/pdf\n",
    "taskgen.variants2pdf()"
   ]
  },
  {
   "cell_type": "markdown",
   "id": "9ea231e8",
   "metadata": {},
   "source": [
    "# Дополнительные функции"
   ]
  },
  {
   "cell_type": "code",
   "execution_count": null,
   "id": "b4e8fdeb",
   "metadata": {},
   "outputs": [],
   "source": [
    "# Конвертирует TeX файл в HTML\n",
    "taskgen.tex2html(sourcepath, targetpath)"
   ]
  },
  {
   "cell_type": "code",
   "execution_count": null,
   "id": "e315ec6b",
   "metadata": {},
   "outputs": [],
   "source": [
    "# Удаляет все подстановки в папках всех задач\n",
    "taskgen.remove_substitutions(folder='bank')"
   ]
  },
  {
   "cell_type": "code",
   "execution_count": null,
   "id": "b6858a8f",
   "metadata": {},
   "outputs": [],
   "source": [
    "# Генерирует таблицу LaTeX на основе списка\n",
    "taskgen.gen_table(array, replace_tabular=True)"
   ]
  },
  {
   "cell_type": "code",
   "execution_count": null,
   "id": "bcafa3bb",
   "metadata": {},
   "outputs": [],
   "source": [
    "# Выводит вероятность выбора данной папки в ее директории\n",
    "taskgen.get_choise_prob(folder)"
   ]
  },
  {
   "cell_type": "code",
   "execution_count": null,
   "id": "de2c5440",
   "metadata": {},
   "outputs": [],
   "source": [
    "# Выводит список папок, умножив кол-во вхождений каждой папки на коэффициент, указанный в ее названии\n",
    "taskgen.get_omega_folders(folder='bank')"
   ]
  },
  {
   "cell_type": "code",
   "execution_count": null,
   "id": "681f7312",
   "metadata": {},
   "outputs": [],
   "source": [
    "# Выводит задачу с подставленными значениями на основе TeX\n",
    "# subs_data - словарь с подстановками\n",
    "taskgen.show(subs_data={}, template_name='template.tex')"
   ]
  },
  {
   "cell_type": "code",
   "execution_count": null,
   "id": "83e6aca3",
   "metadata": {},
   "outputs": [],
   "source": [
    "# Выполняет подстановку переменных в файл TeX\n",
    "taskgen.latex_subs(from_file, to_file, params)"
   ]
  },
  {
   "cell_type": "code",
   "execution_count": null,
   "id": "4183f805",
   "metadata": {},
   "outputs": [],
   "source": [
    "# Конвертирует TeX файлы подстановок в HTML\n",
    "taskgen.tex_substitutions2html()"
   ]
  },
  {
   "cell_type": "code",
   "execution_count": null,
   "id": "1b7ce4a6",
   "metadata": {},
   "outputs": [],
   "source": [
    "# Конвертирует TeX файлы подстановок в HTML оптимизированным способом за счет использования merged файла.\n",
    "# Благодаря этому множество файлов подстановок данной задачи конвертируются в HTML за 1 проход.\n",
    "taskgen.tex_substitutions2html_optimized(folder='bank')"
   ]
  },
  {
   "cell_type": "code",
   "execution_count": null,
   "id": "2f86e74c",
   "metadata": {},
   "outputs": [],
   "source": [
    "# Создает структуру вариантов, т.е. определяет из каких файлов подстановок будет состоять каждый вариант.\n",
    "\n",
    "# Кол-во задач в варианте то же, что и кол-во папок в переданной директории folder.\n",
    "# Порядок задач в варианте зависит от лексикографического порядка папок.\n",
    "\n",
    "# Сначала случайным образом выбирается тема, затем случайным образом выбирается задача, после этого случайным\n",
    "# образом выбирается i-я подстановка.\n",
    "\n",
    "# Создает 2 файла:\n",
    "# results/structure.json - json представление структуры билетов для последующей сборки вариантов\n",
    "# results/structure.txt - текстовое представление структуры билетов для просмотра человеком.\n",
    "\n",
    "# Структура это просто список путей к TeX файлам подстановок, которые будет использоваться при сборке варианта.\n",
    "taskgen.make_variants_structure(folder='./bank', size=1, start=1)"
   ]
  },
  {
   "cell_type": "code",
   "execution_count": null,
   "id": "a363c0a2",
   "metadata": {},
   "outputs": [],
   "source": [
    "# На основе переданной структуры задач создает файл варианта в формате TeX\n",
    "# variant_number: Номер варианта.\n",
    "# structure: Список путей к файлам подстановок задач в формате TeX\n",
    "taskgen.make_tex_variant(variant_number, structure)"
   ]
  },
  {
   "cell_type": "code",
   "execution_count": null,
   "id": "976cb62a",
   "metadata": {},
   "outputs": [],
   "source": [
    "# На основе переданной структуры задач создает файл варианта в формате HTML\n",
    "# variant_number: Номер варианта.\n",
    "# structure: Список путей к файлам подстановок задач в формате TeX\n",
    "# with_solution: Включать ответы к задачам в результирующем файле варианта или нет.\n",
    "taskgen.make_html_variant(variant_number, structure, with_solution=True)"
   ]
  },
  {
   "cell_type": "code",
   "execution_count": null,
   "id": "8f9a502a",
   "metadata": {},
   "outputs": [],
   "source": [
    "# Объединяет файлы вариантов в TeX формате в один \"variants_merged.tex\" файл\n",
    "taskgen.merge_tex_variants()"
   ]
  },
  {
   "cell_type": "code",
   "execution_count": null,
   "id": "94076e68",
   "metadata": {},
   "outputs": [],
   "source": [
    "# Объединяет файлы вариантов в HTML формате в один \"variants_merged.html\" файл\n",
    "taskgen.merge_html_variants(with_solution=True)"
   ]
  },
  {
   "cell_type": "code",
   "execution_count": null,
   "id": "7860dd53",
   "metadata": {},
   "outputs": [],
   "source": [
    "# Объединяет все подстановки в TeX и HTML форматах\n",
    "taskgen.merge_all_substitutions(folder='./bank')"
   ]
  },
  {
   "cell_type": "code",
   "execution_count": null,
   "id": "43c75303",
   "metadata": {},
   "outputs": [],
   "source": [
    "# Объединяет переданный список TeX файлов в 1 файл.\n",
    "# Возвращает исходный код объединенного файла.\n",
    "taskgen.merge_tex(files_list)"
   ]
  },
  {
   "cell_type": "code",
   "execution_count": null,
   "id": "f29f357e",
   "metadata": {},
   "outputs": [],
   "source": [
    "# Генерирует данные для подстановки для конкретной задачи.\n",
    "# Эти данные в json формате будут располагаться в подпапке \"data\" папки задачи.\n",
    "taskgen.gen_subs_data(task_folder, n)"
   ]
  },
  {
   "cell_type": "code",
   "execution_count": null,
   "id": "b007de61",
   "metadata": {},
   "outputs": [],
   "source": [
    "# Генерирует данные для подстановки для каждой задачи в папке.\n",
    "# Основан на функции \"gen_subs_data\".\n",
    "taskgen.gen_data(n=1, folder='bank')"
   ]
  },
  {
   "cell_type": "code",
   "execution_count": null,
   "id": "bd11b90d",
   "metadata": {},
   "outputs": [],
   "source": [
    "# Создает заданное число подстановок каждой задачи в указанной папке.\n",
    "# Данные для подстановок должны быть заранее сгенерированы посредством функции \"gen_data\".\n",
    "taskgen.gen_subs(n=1, folder='bank')"
   ]
  },
  {
   "cell_type": "code",
   "execution_count": null,
   "id": "de2aed10",
   "metadata": {},
   "outputs": [],
   "source": [
    "# Cоздает n подстановок для каждой задачи из папки folder.\n",
    "\n",
    "# Сначала создаются файлы подстановок с названием в формате \"substitution_i.tex\".\n",
    "# Они лежат каждый в папке со своей задачей в подпапке substitutions/tex.\n",
    "# В той же папке лежит объединенный файл \"substitutions_merged.tex\".\n",
    "\n",
    "# Затем TeX файлы подстановок конвертируются в HTML. Конвертация происходит оптимизированным способом.\n",
    "# Сначала конвертируется за 1 проход объединенный файл \"substitutions_merged.tex\".\n",
    "# В подпапке \"substitutions/html\" появляется файл \"substitutions_merged.html\", который можно просматривать в браузере.\n",
    "# После этого полученный файл разрезается на составляющие его задачи. В той же подпапке появляются по 2 файла\n",
    "# для каждой задачи: \"substitution_i_problem.html\", \"substitution_i_solution.html\". Это чистый html для условия и\n",
    "# решения. Он не содержит скрипты mathjax, поэтому не предполагается его просмотр через браузер. Это системные файлы,\n",
    "# на основе которых потом будут собираться варианты.\n",
    "\n",
    "# n: кол-во создаваемых подстановок для каждой задачи\n",
    "# folder: папка, для задач которой будут генерироваться подстановки\n",
    "\n",
    "# Результатом работы являются файлы подстановок в TeX и HTML форматах.\n",
    "taskgen.gen_bank(n, folder)"
   ]
  },
  {
   "cell_type": "code",
   "execution_count": null,
   "id": "e8967e0b",
   "metadata": {},
   "outputs": [],
   "source": [
    "# Конвертирует объединенный TeX файл в HTML.\n",
    "# После конвертации разбивает его на множество мелких HTML файлов, из которых он состоит.\n",
    "\n",
    "# На вход ожидает путь к TeX файлу, содержащим множество задач.\n",
    "# Одна задача определяется набором из 2 окружений \"problem\" и \"answer\", идущих друг за другом.\n",
    "# Конвертирует этот файл в его HTML версию средствами make4ht (функция \"tex2html\").\n",
    "# Затем синтаксически анализирует DOM, идентифицирует искомые задачи и создает для каждой задачи\n",
    "# свой набор HTML для формулировки условия и решения.\n",
    "\n",
    "# Ожидается, что merged файл лежит в директории с названием \"tex\".\n",
    "# Результирующие файлы будут расположены в директории \"html\", лежащей рядом с \"tex\".\n",
    "taskgen.mergedTex2HtmlWithSlicing(merged_tex_file)"
   ]
  },
  {
   "cell_type": "code",
   "execution_count": null,
   "id": "2796a45b",
   "metadata": {},
   "outputs": [],
   "source": [
    "# Возвращает содержимое TeX файла, т.е. все, что расположено между \"'\\begin{document}'\" и \"\\end{document}\".\n",
    "taskgen.get_tex_body(file)"
   ]
  },
  {
   "cell_type": "code",
   "execution_count": null,
   "id": "f1eec3fc",
   "metadata": {},
   "outputs": [],
   "source": [
    "#taskgen.make_moodle_variant(variant_number, structure)"
   ]
  },
  {
   "cell_type": "code",
   "execution_count": null,
   "id": "8dd39056",
   "metadata": {},
   "outputs": [],
   "source": [
    "#%%time\n",
    "# [в разработке] конвертируем варианты в формат Moodle XML\n",
    "#taskgen.variants2moodle()"
   ]
  }
 ],
 "metadata": {
  "kernelspec": {
   "display_name": "Python 3 (ipykernel)",
   "language": "python",
   "name": "python3"
  },
  "language_info": {
   "codemirror_mode": {
    "name": "ipython",
    "version": 3
   },
   "file_extension": ".py",
   "mimetype": "text/x-python",
   "name": "python",
   "nbconvert_exporter": "python",
   "pygments_lexer": "ipython3",
   "version": "3.9.7"
  }
 },
 "nbformat": 4,
 "nbformat_minor": 5
}
