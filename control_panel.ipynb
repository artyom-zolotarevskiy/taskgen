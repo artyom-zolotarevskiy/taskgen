{
 "cells": [
  {
   "cell_type": "markdown",
   "id": "b6d38dd7",
   "metadata": {},
   "source": [
    "# Панель управления"
   ]
  },
  {
   "cell_type": "code",
   "execution_count": null,
   "id": "d5aaeba6",
   "metadata": {},
   "outputs": [],
   "source": [
    "import taskgen"
   ]
  },
  {
   "cell_type": "code",
   "execution_count": null,
   "id": "91ed9c62",
   "metadata": {},
   "outputs": [],
   "source": [
    "# установленная версия ядра генератора\n",
    "taskgen.__version__"
   ]
  },
  {
   "cell_type": "markdown",
   "id": "02417523",
   "metadata": {},
   "source": [
    "## Статистика банка задач\n",
    "count_tasks() - считает количество задач\n",
    "\n",
    "count_tex_substitutions() - считает количество подстановок в формате TeX\n",
    "\n",
    "count_html_substitutions() - считает количество подстановок в формате HTML"
   ]
  },
  {
   "cell_type": "code",
   "execution_count": null,
   "id": "c19f8a46",
   "metadata": {},
   "outputs": [],
   "source": [
    "taskgen.count_tasks(), taskgen.count_tex_substitutions(), taskgen.count_html_substitutions()"
   ]
  },
  {
   "cell_type": "markdown",
   "id": "15321256",
   "metadata": {},
   "source": [
    "## Генерация подстановок\n",
    "В папке каждой задачи в подпаке \"substitutions\" создает n подстановок в TeX и HTML форматах."
   ]
  },
  {
   "cell_type": "code",
   "execution_count": null,
   "id": "2ee06d1f",
   "metadata": {},
   "outputs": [],
   "source": [
    "%%time\n",
    "# Запускает ноутбуки параметразиции всех задач в указаной парке, создает данные для подстановок.\n",
    "# Результаты лежат в подпапке \"data\" папки каждой задачи.\n",
    "taskgen.gen_data(n=5, folder='./bank')"
   ]
  },
  {
   "cell_type": "code",
   "execution_count": null,
   "id": "db5a0445",
   "metadata": {},
   "outputs": [],
   "source": [
    "%%time\n",
    "# Создает TeX файлы с подставленными переменными на основе данных, созданных до этого функцией \"gen_data\"\n",
    "taskgen.gen_subs(folder='./bank')"
   ]
  },
  {
   "cell_type": "code",
   "execution_count": null,
   "id": "006d4a3b",
   "metadata": {},
   "outputs": [],
   "source": [
    "%%time\n",
    "# Конвертирует TeX файлы подстановок в HTML\n",
    "taskgen.tex2html('./bank')"
   ]
  },
  {
   "cell_type": "markdown",
   "id": "86590e80",
   "metadata": {},
   "source": [
    "## Сборка вариантов\n",
    "На основе подстановок, созданных на прошлом этапе, собирает итоговые варианты в TeX и HTML форматах."
   ]
  },
  {
   "cell_type": "code",
   "execution_count": null,
   "id": "1b7dd5ad",
   "metadata": {},
   "outputs": [],
   "source": [
    "%%time\n",
    "taskgen.make_variants(folder='./bank', size=5, start=1)"
   ]
  },
  {
   "cell_type": "markdown",
   "id": "8a69dce0",
   "metadata": {},
   "source": [
    "## Создание объединенного файла со всеми подстановками\n",
    "Генерирует 2 файла в форматах TeX и HTML, содержащие все подстановки всех задач. \n",
    "\n",
    "Позволяет проверить корректность конвертации из TeX в HTML всего банка. "
   ]
  },
  {
   "cell_type": "code",
   "execution_count": null,
   "id": "174180ec",
   "metadata": {},
   "outputs": [],
   "source": [
    "%%time\n",
    "taskgen.merge_all_substitutions(folder='./bank')"
   ]
  },
  {
   "cell_type": "markdown",
   "id": "b9e12d43",
   "metadata": {},
   "source": [
    "## Создание масштабированных PDF файлов вариантов\n",
    "Все варианты конвертируются из HTML в PDF. \n",
    "\n",
    "1 вариант занимает целиком лист А4.\n",
    "\n",
    "Результаты лежат в папке \"results/pdf\""
   ]
  },
  {
   "cell_type": "code",
   "execution_count": null,
   "id": "fe3b1cf3",
   "metadata": {
    "scrolled": true
   },
   "outputs": [],
   "source": [
    "%%time\n",
    "taskgen.variants2pdf()"
   ]
  },
  {
   "cell_type": "markdown",
   "id": "12d87e8a",
   "metadata": {},
   "source": [
    "## Справка по всем функциям генератора"
   ]
  },
  {
   "cell_type": "code",
   "execution_count": null,
   "id": "b1d240a6",
   "metadata": {},
   "outputs": [],
   "source": [
    "!python -m pydoc taskgen.generator"
   ]
  },
  {
   "cell_type": "markdown",
   "id": "4f8cf752",
   "metadata": {},
   "source": [
    "## Очистить банк от всех файлов подстановок\n",
    "Удаляет папки \"substitutions\", \"data\" и \"tmp\" для каждой задачи."
   ]
  },
  {
   "cell_type": "code",
   "execution_count": null,
   "id": "6d148522",
   "metadata": {},
   "outputs": [],
   "source": [
    "taskgen.remove_substitutions()"
   ]
  },
  {
   "cell_type": "code",
   "execution_count": null,
   "id": "abed790a",
   "metadata": {},
   "outputs": [],
   "source": []
  }
 ],
 "metadata": {
  "kernelspec": {
   "display_name": "Python 3 (ipykernel)",
   "language": "python",
   "name": "python3"
  },
  "language_info": {
   "codemirror_mode": {
    "name": "ipython",
    "version": 3
   },
   "file_extension": ".py",
   "mimetype": "text/x-python",
   "name": "python",
   "nbconvert_exporter": "python",
   "pygments_lexer": "ipython3",
   "version": "3.9.7"
  },
  "latex_envs": {
   "LaTeX_envs_menu_present": true,
   "autoclose": false,
   "autocomplete": true,
   "bibliofile": "biblio.bib",
   "cite_by": "apalike",
   "current_citInitial": 1,
   "eqLabelWithNumbers": true,
   "eqNumInitial": 1,
   "hotkeys": {
    "equation": "Ctrl-E",
    "itemize": "Ctrl-I"
   },
   "labels_anchors": false,
   "latex_user_defs": false,
   "report_style_numbering": false,
   "user_envs_cfg": false
  }
 },
 "nbformat": 4,
 "nbformat_minor": 5
}
