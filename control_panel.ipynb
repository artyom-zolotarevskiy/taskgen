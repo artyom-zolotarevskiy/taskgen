{
 "cells": [
  {
   "cell_type": "code",
   "execution_count": null,
   "id": "00a4058d",
   "metadata": {},
   "outputs": [],
   "source": [
    "#!pip install selenium"
   ]
  },
  {
   "cell_type": "code",
   "execution_count": null,
   "id": "9c23bef8",
   "metadata": {},
   "outputs": [],
   "source": [
    "#!pip install webdriver_manager"
   ]
  },
  {
   "cell_type": "code",
   "execution_count": null,
   "id": "9862d262",
   "metadata": {},
   "outputs": [],
   "source": [
    "#!pip install PyPDF2"
   ]
  },
  {
   "cell_type": "code",
   "execution_count": null,
   "id": "8466ecdc",
   "metadata": {},
   "outputs": [],
   "source": [
    "#pip install pylatexenc"
   ]
  },
  {
   "cell_type": "code",
   "execution_count": null,
   "id": "d5aaeba6",
   "metadata": {},
   "outputs": [],
   "source": [
    "from taskgen import *\n",
    "from taskgen.generator import *\n",
    "from taskgen.html2pdf import *"
   ]
  },
  {
   "cell_type": "code",
   "execution_count": null,
   "id": "4e301c04",
   "metadata": {},
   "outputs": [],
   "source": [
    "# начало нумерации билетов\n",
    "start_numeration = 100\n",
    "# кол-во генерируемых вариантов\n",
    "variant_count = 1\n",
    "# детерминированная генерация билетов\n",
    "deterministic = True"
   ]
  },
  {
   "cell_type": "code",
   "execution_count": null,
   "id": "e79c3377",
   "metadata": {},
   "outputs": [],
   "source": [
    "%%time\n",
    "generate_exam(start_numeration, variant_count, deterministic)"
   ]
  },
  {
   "cell_type": "code",
   "execution_count": null,
   "id": "66e8dc78",
   "metadata": {},
   "outputs": [],
   "source": [
    "#compile_file(filename = 'Q3', folder = './QUESTIONS/Q3/')"
   ]
  },
  {
   "cell_type": "code",
   "execution_count": null,
   "id": "341c2b14",
   "metadata": {},
   "outputs": [],
   "source": [
    "#gen_variant(variant_number = 1, deterministic = True, task_number_for_deterministic=0)"
   ]
  },
  {
   "cell_type": "code",
   "execution_count": null,
   "id": "64392528",
   "metadata": {},
   "outputs": [],
   "source": [
    "#html2pdf(os.path.join(os.getcwd(), 'RESULTS', 'html', 'only_problems'), \\\n",
    "#             os.path.join(os.getcwd(), 'RESULTS', 'pdf', 'only_problems'), in_one_page=True)"
   ]
  }
 ],
 "metadata": {
  "kernelspec": {
   "display_name": "Python 3 (ipykernel)",
   "language": "python",
   "name": "python3"
  },
  "language_info": {
   "codemirror_mode": {
    "name": "ipython",
    "version": 3
   },
   "file_extension": ".py",
   "mimetype": "text/x-python",
   "name": "python",
   "nbconvert_exporter": "python",
   "pygments_lexer": "ipython3",
   "version": "3.9.7"
  }
 },
 "nbformat": 4,
 "nbformat_minor": 5
}
