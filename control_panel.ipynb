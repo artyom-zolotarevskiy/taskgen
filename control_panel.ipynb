{
 "cells": [
  {
   "cell_type": "markdown",
   "id": "b6d38dd7",
   "metadata": {},
   "source": [
    "# Панель управления"
   ]
  },
  {
   "cell_type": "code",
   "execution_count": null,
   "id": "d5aaeba6",
   "metadata": {},
   "outputs": [],
   "source": [
    "import taskgen"
   ]
  },
  {
   "cell_type": "markdown",
   "id": "02417523",
   "metadata": {},
   "source": [
    "## Статистика банка задач\n",
    "count_tasks() - считает количество задач\n",
    "\n",
    "count_tex_substitutions() - считает количество подстановок в формате TeX\n",
    "\n",
    "count_html_substitutions() - считает количество подстановок в формате HTML"
   ]
  },
  {
   "cell_type": "code",
   "execution_count": null,
   "id": "c19f8a46",
   "metadata": {},
   "outputs": [],
   "source": [
    "taskgen.count_tasks(), taskgen.count_tex_substitutions(), taskgen.count_html_substitutions()"
   ]
  },
  {
   "cell_type": "markdown",
   "id": "15321256",
   "metadata": {},
   "source": [
    "## Генерация подстановок\n",
    "В папке каждой задачи в подпаке \"substitutions\" создает n подстановок в TeX и HTML форматах."
   ]
  },
  {
   "cell_type": "code",
   "execution_count": null,
   "id": "8bb16c32",
   "metadata": {
    "scrolled": false
   },
   "outputs": [],
   "source": [
    "%%time\n",
    "taskgen.gen_bank(n=15)"
   ]
  },
  {
   "cell_type": "markdown",
   "id": "86590e80",
   "metadata": {},
   "source": [
    "## Сборка вариантов\n",
    "На основе подстановок, созданных на прошлом этапе, собирает итоговые варианты в TeX и HTML форматах."
   ]
  },
  {
   "cell_type": "code",
   "execution_count": null,
   "id": "1b7dd5ad",
   "metadata": {},
   "outputs": [],
   "source": [
    "%%time\n",
    "taskgen.make_variants(size=10, start=10)"
   ]
  },
  {
   "cell_type": "markdown",
   "id": "8a69dce0",
   "metadata": {},
   "source": [
    "## Создание объединенного файла со всеми подстановками\n",
    "Генерирует 2 файла в форматах TeX и HTML, содержащие все подстановки всех задач. \n",
    "\n",
    "Позволяет проверить корректность конвертации из TeX в HTML всего банка. "
   ]
  },
  {
   "cell_type": "code",
   "execution_count": null,
   "id": "174180ec",
   "metadata": {},
   "outputs": [],
   "source": [
    "%%time\n",
    "taskgen.merge_all_substitutions()"
   ]
  },
  {
   "cell_type": "markdown",
   "id": "b9e12d43",
   "metadata": {},
   "source": [
    "## Создание масштабированных PDF файлов вариантов\n",
    "Все варианты конвертируются из HTML в PDF. \n",
    "\n",
    "1 вариант занимает целиком лист А4."
   ]
  },
  {
   "cell_type": "code",
   "execution_count": null,
   "id": "fe3b1cf3",
   "metadata": {
    "scrolled": true
   },
   "outputs": [],
   "source": [
    "%%time\n",
    "# конвертируем html версии вариантов в pdf\n",
    "# результаты лежат в папке results/pdf\n",
    "taskgen.variants2pdf()"
   ]
  },
  {
   "cell_type": "markdown",
   "id": "12d87e8a",
   "metadata": {},
   "source": [
    "# Дополнительные функции"
   ]
  },
  {
   "cell_type": "code",
   "execution_count": null,
   "id": "b6d0e651",
   "metadata": {},
   "outputs": [],
   "source": [
    "%%time\n",
    "# Конвертирует TeX файл в HTML. Использует make4ht.\n",
    "\n",
    "# Для конвертации требуются конфигурационные файлы make4ht, которые должны лежать в папке \"./settings\"\n",
    "# относительно корня пакета.\n",
    "\n",
    "# Данная функция ищет папку \"settings\" в родительских папках относительно активной директории исполняемого файла\n",
    "# до 5 уровней вложенности вверх.\n",
    "taskgen.tex2html(sourcepath, targetpath)"
   ]
  },
  {
   "cell_type": "code",
   "execution_count": null,
   "id": "35d30579",
   "metadata": {},
   "outputs": [],
   "source": [
    "# Удаляет все подстановки в папках всех задач\n",
    "taskgen.remove_substitutions(folder='bank')"
   ]
  },
  {
   "cell_type": "code",
   "execution_count": null,
   "id": "6735f7e7",
   "metadata": {},
   "outputs": [],
   "source": [
    "# Генерирует таблицу LaTeX на основе списка\n",
    "taskgen.gen_table(array, replace_tabular=True)"
   ]
  },
  {
   "cell_type": "code",
   "execution_count": null,
   "id": "4c9ae835",
   "metadata": {},
   "outputs": [],
   "source": [
    "# Выводит вероятность выбора данной папки в ее директории\n",
    "taskgen.get_choise_prob(folder)"
   ]
  },
  {
   "cell_type": "code",
   "execution_count": null,
   "id": "17fd4bc3",
   "metadata": {},
   "outputs": [],
   "source": [
    "# Выводит список папок, умножив кол-во вхождений каждой папки на коэффициент, указанный в ее названии\n",
    "taskgen.get_omega_folders(folder='bank')"
   ]
  },
  {
   "cell_type": "code",
   "execution_count": null,
   "id": "56c5c5e3",
   "metadata": {},
   "outputs": [],
   "source": [
    "# Выводит задачу с подставленными значениями на основе TeX\n",
    "# subs_data - словарь с подстановками\n",
    "taskgen.show(subs_data={}, template_name='template.tex')"
   ]
  },
  {
   "cell_type": "code",
   "execution_count": null,
   "id": "c234bcf0",
   "metadata": {},
   "outputs": [],
   "source": [
    "# Выполняет подстановку переменных в файл TeX\n",
    "taskgen.latex_subs(from_file, to_file, params)"
   ]
  },
  {
   "cell_type": "code",
   "execution_count": null,
   "id": "a41e83b9",
   "metadata": {},
   "outputs": [],
   "source": [
    "# Конвертирует TeX файлы подстановок в HTML\n",
    "taskgen.tex_substitutions2html()"
   ]
  },
  {
   "cell_type": "code",
   "execution_count": null,
   "id": "591c73d6",
   "metadata": {},
   "outputs": [],
   "source": [
    "# Конвертирует TeX файлы подстановок в HTML оптимизированным способом за счет использования merged файла.\n",
    "# Благодаря этому множество файлов подстановок данной задачи конвертируются в HTML за 1 проход.\n",
    "taskgen.tex_substitutions2html_optimized(folder='bank')"
   ]
  },
  {
   "cell_type": "code",
   "execution_count": null,
   "id": "ef85435a",
   "metadata": {},
   "outputs": [],
   "source": [
    "# Создает структуру вариантов, т.е. определяет из каких файлов подстановок будет состоять каждый вариант.\n",
    "\n",
    "# Кол-во задач в варианте то же, что и кол-во папок в переданной директории folder.\n",
    "# Порядок задач в варианте зависит от лексикографического порядка папок.\n",
    "\n",
    "# Сначала случайным образом выбирается тема, затем случайным образом выбирается задача, после этого случайным\n",
    "# образом выбирается i-я подстановка.\n",
    "\n",
    "# Создает 2 файла:\n",
    "# results/structure.json - json представление структуры билетов для последующей сборки вариантов\n",
    "# results/structure.txt - текстовое представление структуры билетов для просмотра человеком.\n",
    "\n",
    "# Структура это просто список путей к TeX файлам подстановок, которые будет использоваться при сборке варианта.\n",
    "taskgen.make_variants_structure(folder='./bank', size=1, start=1)"
   ]
  },
  {
   "cell_type": "code",
   "execution_count": null,
   "id": "dbeefc6a",
   "metadata": {},
   "outputs": [],
   "source": [
    "# На основе переданной структуры задач создает файл варианта в формате TeX\n",
    "# variant_number: Номер варианта.\n",
    "# structure: Список путей к файлам подстановок задач в формате TeX\n",
    "taskgen.make_tex_variant(variant_number, structure)"
   ]
  },
  {
   "cell_type": "code",
   "execution_count": null,
   "id": "6b7a55fb",
   "metadata": {},
   "outputs": [],
   "source": [
    "# На основе переданной структуры задач создает файл варианта в формате HTML\n",
    "# variant_number: Номер варианта.\n",
    "# structure: Список путей к файлам подстановок задач в формате TeX\n",
    "# with_solution: Включать ответы к задачам в результирующем файле варианта или нет.\n",
    "taskgen.make_html_variant(variant_number, structure, with_solution=True)"
   ]
  },
  {
   "cell_type": "code",
   "execution_count": null,
   "id": "7fcecc15",
   "metadata": {},
   "outputs": [],
   "source": [
    "# На основе переданной структуры задач создает файл варианта в формате Moodle XML\n",
    "# variant_number: Номер варианта.\n",
    "# structure: Список путей к файлам подстановок задач в формате TeX\n",
    "taskgen.make_moodle_variant(variant_number, structure)"
   ]
  },
  {
   "cell_type": "code",
   "execution_count": null,
   "id": "7cb27fc4",
   "metadata": {},
   "outputs": [],
   "source": [
    "# Объединяет файлы вариантов в TeX формате в один \"variants_merged.tex\" файл\n",
    "taskgen.merge_tex_variants()"
   ]
  },
  {
   "cell_type": "code",
   "execution_count": null,
   "id": "21c6c7c7",
   "metadata": {},
   "outputs": [],
   "source": [
    "# Объединяет файлы вариантов в HTML формате в один \"variants_merged.html\" файл\n",
    "taskgen.merge_html_variants(with_solution=True)"
   ]
  },
  {
   "cell_type": "code",
   "execution_count": null,
   "id": "f2e93bb5",
   "metadata": {},
   "outputs": [],
   "source": [
    "# Объединяет файлы вариантов в Moodle XML формате в один \"variants_merged.xml\" файл\n",
    "taskgen.merge_tex_variants()"
   ]
  },
  {
   "cell_type": "code",
   "execution_count": null,
   "id": "448431ce",
   "metadata": {},
   "outputs": [],
   "source": [
    "# Объединяет все подстановки в TeX и HTML форматах\n",
    "taskgen.merge_all_substitutions(folder='./bank')"
   ]
  },
  {
   "cell_type": "code",
   "execution_count": null,
   "id": "3677ee86",
   "metadata": {},
   "outputs": [],
   "source": [
    "# Объединяет переданный список TeX файлов в 1 файл.\n",
    "# Возвращает исходный код объединенного файла.\n",
    "taskgen.merge_tex(files_list)"
   ]
  },
  {
   "cell_type": "code",
   "execution_count": null,
   "id": "9af3714a",
   "metadata": {},
   "outputs": [],
   "source": [
    "# Генерирует данные для подстановки для конкретной задачи.\n",
    "# Эти данные в json формате будут располагаться в подпапке \"data\" папки задачи.\n",
    "taskgen.gen_subs_data(task_folder, n)"
   ]
  },
  {
   "cell_type": "code",
   "execution_count": null,
   "id": "da33b25e",
   "metadata": {},
   "outputs": [],
   "source": [
    "# Генерирует данные для подстановки для каждой задачи в папке.\n",
    "# Основан на функции \"gen_subs_data\".\n",
    "taskgen.gen_data(n=1, folder='bank')"
   ]
  },
  {
   "cell_type": "code",
   "execution_count": null,
   "id": "586c6a66",
   "metadata": {},
   "outputs": [],
   "source": [
    "# Создает заданное число подстановок каждой задачи в указанной папке.\n",
    "# Данные для подстановок должны быть заранее сгенерированы посредством функции \"gen_data\".\n",
    "taskgen.gen_subs(n=1, folder='bank')"
   ]
  },
  {
   "cell_type": "code",
   "execution_count": null,
   "id": "452b65f2",
   "metadata": {},
   "outputs": [],
   "source": [
    "# Cоздает n подстановок для каждой задачи из папки folder.\n",
    "\n",
    "# Сначала создаются файлы подстановок с названием в формате \"substitution_i.tex\".\n",
    "# Они лежат каждый в папке со своей задачей в подпапке substitutions/tex.\n",
    "# В той же папке лежит объединенный файл \"substitutions_merged.tex\".\n",
    "\n",
    "# Затем TeX файлы подстановок конвертируются в HTML. Конвертация происходит оптимизированным способом.\n",
    "# Сначала конвертируется за 1 проход объединенный файл \"substitutions_merged.tex\".\n",
    "# В подпапке \"substitutions/html\" появляется файл \"substitutions_merged.html\", который можно просматривать в браузере.\n",
    "# После этого полученный файл разрезается на составляющие его задачи. В той же подпапке появляются по 2 файла\n",
    "# для каждой задачи: \"substitution_i_problem.html\", \"substitution_i_solution.html\". Это чистый html для условия и\n",
    "# решения. Он не содержит скрипты mathjax, поэтому не предполагается его просмотр через браузер. Это системные файлы,\n",
    "# на основе которых потом будут собираться варианты.\n",
    "\n",
    "# n: кол-во создаваемых подстановок для каждой задачи\n",
    "# folder: папка, для задач которой будут генерироваться подстановки\n",
    "\n",
    "# Результатом работы являются файлы подстановок в TeX, HTML и Moodle XML форматах.\n",
    "taskgen.gen_bank(n, folder)"
   ]
  },
  {
   "cell_type": "code",
   "execution_count": null,
   "id": "e8b8cdde",
   "metadata": {},
   "outputs": [],
   "source": [
    "# Конвертирует объединенный TeX файл в HTML.\n",
    "# После конвертации разбивает его на множество мелких HTML файлов, из которых он состоит.\n",
    "\n",
    "# На вход ожидает путь к TeX файлу, содержащим множество задач.\n",
    "# Одна задача определяется набором из 2 окружений \"problem\" и \"answer\", идущих друг за другом.\n",
    "# Конвертирует этот файл в его HTML версию средствами make4ht (функция \"tex2html\").\n",
    "# Затем синтаксически анализирует DOM, идентифицирует искомые задачи и создает для каждой задачи\n",
    "# свой набор HTML для формулировки условия и решения.\n",
    "\n",
    "# Ожидается, что merged файл лежит в директории с названием \"tex\".\n",
    "# Результирующие файлы будут расположены в директории \"html\", лежащей рядом с \"tex\".\n",
    "taskgen.mergedTex2HtmlWithSlicing(merged_tex_file)"
   ]
  },
  {
   "cell_type": "code",
   "execution_count": null,
   "id": "96f25238",
   "metadata": {},
   "outputs": [],
   "source": [
    "# Возвращает содержимое TeX файла, т.е. все, что расположено между \"'\\begin{document}'\" и \"\\end{document}\".\n",
    "taskgen.get_tex_body(file)"
   ]
  }
 ],
 "metadata": {
  "kernelspec": {
   "display_name": "Python 3 (ipykernel)",
   "language": "python",
   "name": "python3"
  },
  "language_info": {
   "codemirror_mode": {
    "name": "ipython",
    "version": 3
   },
   "file_extension": ".py",
   "mimetype": "text/x-python",
   "name": "python",
   "nbconvert_exporter": "python",
   "pygments_lexer": "ipython3",
   "version": "3.9.7"
  }
 },
 "nbformat": 4,
 "nbformat_minor": 5
}
