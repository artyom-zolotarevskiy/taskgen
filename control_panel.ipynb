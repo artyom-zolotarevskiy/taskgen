{
 "cells": [
  {
   "cell_type": "code",
   "execution_count": null,
   "id": "00a4058d",
   "metadata": {},
   "outputs": [],
   "source": [
    "#!pip install selenium"
   ]
  },
  {
   "cell_type": "code",
   "execution_count": null,
   "id": "9c23bef8",
   "metadata": {},
   "outputs": [],
   "source": [
    "#!pip install webdriver_manager"
   ]
  },
  {
   "cell_type": "code",
   "execution_count": null,
   "id": "9862d262",
   "metadata": {},
   "outputs": [],
   "source": [
    "#!pip install PyPDF2"
   ]
  },
  {
   "cell_type": "code",
   "execution_count": null,
   "id": "8466ecdc",
   "metadata": {},
   "outputs": [],
   "source": [
    "#pip install pylatexenc"
   ]
  },
  {
   "cell_type": "code",
   "execution_count": null,
   "id": "d3f004ee",
   "metadata": {},
   "outputs": [],
   "source": [
    "#pip install beautifulsoup4"
   ]
  },
  {
   "cell_type": "code",
   "execution_count": 1,
   "id": "d5aaeba6",
   "metadata": {},
   "outputs": [],
   "source": [
    "from taskgen import *\n",
    "from taskgen.generator import *\n",
    "from taskgen.html2pdf import *"
   ]
  },
  {
   "cell_type": "code",
   "execution_count": 2,
   "id": "b87e58f2",
   "metadata": {},
   "outputs": [
    {
     "name": "stdout",
     "output_type": "stream",
     "text": [
      "Компилируем файл \"./bank/task1/task1\"...\n",
      "Выполняем python код...\n",
      "Еще раз компилируем...\n",
      "Исходный  TeX файл скомпилирован!\n"
     ]
    }
   ],
   "source": [
    "compile_tex(filename = 'task1', folder = './bank/task1/')"
   ]
  },
  {
   "cell_type": "code",
   "execution_count": 7,
   "id": "83dbd85b",
   "metadata": {},
   "outputs": [
    {
     "name": "stdout",
     "output_type": "stream",
     "text": [
      "Получаем версию файла без python...\n",
      "Сохраняем версию файла без python...\n",
      "Успешно создана версия TeX файл не содержащая код python - \"task1_data.tex\"!\n"
     ]
    },
    {
     "data": {
      "text/plain": [
       "'/Users/artyomzolotarevskiy/Documents/университет/ryabov/taskgen/bank/task1/task1_data.tex'"
      ]
     },
     "execution_count": 7,
     "metadata": {},
     "output_type": "execute_result"
    }
   ],
   "source": [
    "path_to_tex_file_without_python = remove_python(filename = 'task1', folder = './bank/task1/')\n",
    "path_to_tex_file_without_python"
   ]
  },
  {
   "cell_type": "code",
   "execution_count": 8,
   "id": "70d9f504",
   "metadata": {},
   "outputs": [
    {
     "name": "stdout",
     "output_type": "stream",
     "text": [
      "Получаем название задачи...\n",
      "Название задачи: \"Случ. бесп. выборка\"\n",
      "Получаем ответы...\n",
      "Создаем версию tex файла, содержащую подстановки для будущих полей ввода ответов...\n",
      "Конвертируем TeX файл в HTML на базе MathJax...\n",
      "Получаем тело HTML документа...\n",
      "Получаем стили документа...\n",
      "Добавляем JavaScript код для поддержки запятой в качестве дробного разделителя...\n",
      "Генерируем файл задачи в формате Moodle XML...\n",
      "Конвертация TeX в Moodle XML прошла успешно - \"task1_data_moodle.xml\"!\n"
     ]
    },
    {
     "data": {
      "text/plain": [
       "'/Users/artyomzolotarevskiy/Documents/университет/ryabov/taskgen/bank/task1/task1_data_moodle.xml'"
      ]
     },
     "execution_count": 8,
     "metadata": {},
     "output_type": "execute_result"
    }
   ],
   "source": [
    "path_to_moodle_xml = convert_tex_to_moodle_xml(path_to_tex_file_without_python)\n",
    "path_to_moodle_xml"
   ]
  },
  {
   "cell_type": "code",
   "execution_count": 2,
   "id": "50f9666c",
   "metadata": {},
   "outputs": [
    {
     "name": "stdout",
     "output_type": "stream",
     "text": [
      "Создаем копию указанного файла № 1...\n",
      "Компилируем файл \"/Users/artyomzolotarevskiy/Documents/университет/ryabov/taskgen/results/moodle/23.10.2022 20-15-59/temp/task1\"...\n"
     ]
    },
    {
     "name": "stderr",
     "output_type": "stream",
     "text": [
      "Latexmk: Error on first line of 'task1.log'.\n",
      "  This is apparently not a TeX log file.    The first line is:\n",
      "\n",
      "Latexmk: Missing input file 'pythontex-files-task1/task1.pytxmcr' (or dependence on it) from following:\n",
      "  'No file pythontex-files-task1/task1.pytxmcr.'\n",
      "Latexmk: Missing input file 'pythontex-files-task1/task1.pytxmcr' (or dependence on it) from following:\n",
      "  'No file pythontex-files-task1/task1.pytxmcr.'\n"
     ]
    },
    {
     "name": "stdout",
     "output_type": "stream",
     "text": [
      "Выполняем python код...\n",
      "Еще раз компилируем...\n",
      "Исходный  TeX файл скомпилирован!\n",
      "Получаем версию файла без python...\n",
      "Сохраняем версию файла без python...\n",
      "Успешно создана версия TeX файл не содержащая код python - \"task1_data.tex\"!\n",
      "Получаем название задачи...\n",
      "Название задачи: \"Случ. бесп. выборка\"\n",
      "Получаем ответы...\n",
      "Создаем версию tex файла, содержащую подстановки для будущих полей ввода ответов...\n",
      "Конвертируем TeX файл в HTML на базе MathJax...\n",
      "Получаем тело HTML документа...\n",
      "Получаем стили документа...\n",
      "Добавляем JavaScript код для поддержки запятой в качестве дробного разделителя...\n",
      "Генерируем файл задачи в формате Moodle XML...\n",
      "Конвертация TeX в Moodle XML прошла успешно - \"task1_data_moodle.xml\"!\n",
      "Объединяем все файлы в единый Moodle XML...\n",
      "xml_path /Users/artyomzolotarevskiy/Documents/университет/ryabov/taskgen/results/moodle/23.10.2022 20-15-59/temp/task1_data_moodle.xml\n",
      "\n",
      "not readable\n",
      "\n",
      "Ошибка компиляции! Скорее всего файл ./bank/task1/task1.tex содержит ошибки!\n",
      "Вывод терминальных команд смотри в ./bank/task1/task1_taskgen.log\n",
      "\n",
      "Последние 50 строк файла лога:\n",
      "\n",
      "=========================\n",
      "%\\newcommand{\\setplaceholders}{}\n",
      "%%%%%%%%%%%%%%%%%%%%%%%%%%%%%%%%%%%%%%%\n",
      "\\newenvironment{solution}%\n",
      "{%  \n",
      "  \\setcounter{answercounter}{1}\n",
      "}%\n",
      "{%\n",
      "}\n",
      "%%%%%%%%%%%%%%%%%%%%%%%%%%%%%%%%%\n",
      "\\setlength{\\parindent}{0pt}\n",
      "\\usepackage[in]{fullpage}\n",
      "\n",
      "% параметры:\n",
      "% #1 - сам ответ\n",
      "% #2 - кол-во баллов за ответ\n",
      "% #3 - кол-во знаков после запятой\n",
      "% #4 - допустимая погрешность\n",
      "\\newcommand{\\answer}[4]%\n",
      "{%\n",
      "   \\ifthenelse{\\isundefined{\\setplaceholders}}%\n",
      "   {#1}%\n",
      "   {\n",
      "       \\{\\#\\theanswercounter\\}\n",
      "   }%\n",
      "  \\stepcounter{answercounter}\n",
      "}%\n",
      "\\begin{document}\n",
      "\n",
      "\n",
      "% name - название вопроса \n",
      "\\begin{problem}[name=\"Случ. бесп. выборка\"]\n",
      "Признак $X(k)$ задан на множестве $\\Omega$ = \\{1, 2, . . . , $8$\\} следующей таблицей:\n",
      "\\begin{center}\n",
      "\t\\begin{tabular}{|c|c|c|c|c|c|c|c|c|} \t\\hline \t$k$ & 1 & 2 & 3 & 4 & 5 & 6 & 7 & 8\\\\ \t\\hline \t$X(k)$ & 5 & 3 & 2 & 7 & 7 & 3 & 2 & 3 \\\\\n",
      " \t\\hline \t\\end{tabular}\n",
      "\\end{center}\n",
      "\n",
      "Из $\\Omega$ извлекается случайная бесповторная выборка объема 5. Найдите математическое ожидание и дисперсию среднего значения $\\overline{X}$ признака $X$ в выборке.\\\\ \n",
      "Ответ введите с точностью до трех знаков после запятой.\\\\\n",
      "\\end{problem}\n",
      "\n",
      "\\begin{solution}\n",
      "Математического ожидания $\\mathbb E(\\overline{X})$ = \\answer{4.00000}{0.5}{3}{0.01}\\\\ \n",
      "Дисперсия $\\mathbb Var(\\overline{X})$ = \\answer{0.32143}{0.5}{3}{0.01}\n",
      "\\end{solution}\n",
      "\n",
      "\n",
      "\\end{document}\n",
      "\n",
      "Сохраняем версию файла без python...\n",
      "\n",
      "=========================\n"
     ]
    }
   ],
   "source": [
    "moodle_sample(path='./bank/task1/task1.tex', n=1)"
   ]
  },
  {
   "cell_type": "code",
   "execution_count": 5,
   "id": "66e8dc78",
   "metadata": {},
   "outputs": [
    {
     "name": "stdout",
     "output_type": "stream",
     "text": [
      "Компилируем файл \"./bank/task1/task1\"...\n",
      "Выполняем python код...\n",
      "Еще раз компилируем...\n"
     ]
    },
    {
     "name": "stderr",
     "output_type": "stream",
     "text": [
      "Latexmk: fls file doesn't appear to have been made.\n",
      "Latexmk: Error on first line of 'task1.log'.\n",
      "  This is apparently not a TeX log file.    The first line is:\n",
      "\n",
      "----------------------\n",
      "This message may duplicate earlier message.\n",
      "Latexmk: Failure in processing file 'task1':\n",
      "   Log file 'task1.log' appears to have wrong format.\n",
      "----------------------\n",
      "Latexmk: If appropriate, the -f option can be used to get latexmk\n",
      "  to try to force complete processing.\n"
     ]
    },
    {
     "ename": "NameError",
     "evalue": "name 'e' is not defined",
     "output_type": "error",
     "traceback": [
      "\u001B[0;31m---------------------------------------------------------------------------\u001B[0m",
      "\u001B[0;31mKeyboardInterrupt\u001B[0m                         Traceback (most recent call last)",
      "\u001B[0;32m~/Documents/университет/ryabov/taskgen/taskgen/generator.py\u001B[0m in \u001B[0;36mcompile_tex\u001B[0;34m(filename, folder)\u001B[0m\n\u001B[1;32m     91\u001B[0m         \u001B[0;32mwith\u001B[0m \u001B[0msubp\u001B[0m\u001B[0;34m.\u001B[0m\u001B[0mPopen\u001B[0m\u001B[0;34m(\u001B[0m\u001B[0;34m[\u001B[0m\u001B[0;34m'latexmk'\u001B[0m\u001B[0;34m,\u001B[0m \u001B[0mfilename\u001B[0m\u001B[0;34m]\u001B[0m\u001B[0;34m,\u001B[0m \u001B[0mstdout\u001B[0m\u001B[0;34m=\u001B[0m\u001B[0msubp\u001B[0m\u001B[0;34m.\u001B[0m\u001B[0mPIPE\u001B[0m\u001B[0;34m)\u001B[0m \u001B[0;32mas\u001B[0m \u001B[0mproc\u001B[0m\u001B[0;34m:\u001B[0m\u001B[0;34m\u001B[0m\u001B[0;34m\u001B[0m\u001B[0m\n\u001B[0;32m---> 92\u001B[0;31m             \u001B[0moutput\u001B[0m \u001B[0;34m=\u001B[0m \u001B[0mproc\u001B[0m\u001B[0;34m.\u001B[0m\u001B[0mstdout\u001B[0m\u001B[0;34m.\u001B[0m\u001B[0mread\u001B[0m\u001B[0;34m(\u001B[0m\u001B[0;34m)\u001B[0m\u001B[0;34m.\u001B[0m\u001B[0mdecode\u001B[0m\u001B[0;34m(\u001B[0m\u001B[0;34m'utf-8'\u001B[0m\u001B[0;34m,\u001B[0m \u001B[0;34m'ignore'\u001B[0m\u001B[0;34m)\u001B[0m\u001B[0;34m\u001B[0m\u001B[0;34m\u001B[0m\u001B[0m\n\u001B[0m\u001B[1;32m     93\u001B[0m             \u001B[0mprintlog\u001B[0m\u001B[0;34m(\u001B[0m\u001B[0moutput\u001B[0m\u001B[0;34m,\u001B[0m \u001B[0mbasename_filename\u001B[0m\u001B[0;34m,\u001B[0m \u001B[0;32mTrue\u001B[0m\u001B[0;34m)\u001B[0m\u001B[0;34m\u001B[0m\u001B[0;34m\u001B[0m\u001B[0m\n",
      "\u001B[0;31mKeyboardInterrupt\u001B[0m: ",
      "\nDuring handling of the above exception, another exception occurred:\n",
      "\u001B[0;31mNameError\u001B[0m                                 Traceback (most recent call last)",
      "\u001B[0;32m~/Documents/университет/ryabov/taskgen/taskgen/generator.py\u001B[0m in \u001B[0;36mcompile_file\u001B[0;34m(filename, folder)\u001B[0m\n\u001B[1;32m    433\u001B[0m     \u001B[0;32mtry\u001B[0m\u001B[0;34m:\u001B[0m\u001B[0;34m\u001B[0m\u001B[0;34m\u001B[0m\u001B[0m\n\u001B[0;32m--> 434\u001B[0;31m         \u001B[0mcompile_tex\u001B[0m\u001B[0;34m(\u001B[0m\u001B[0mfilename\u001B[0m\u001B[0;34m,\u001B[0m \u001B[0mfolder\u001B[0m\u001B[0;34m)\u001B[0m\u001B[0;34m\u001B[0m\u001B[0;34m\u001B[0m\u001B[0m\n\u001B[0m\u001B[1;32m    435\u001B[0m \u001B[0;34m\u001B[0m\u001B[0m\n",
      "\u001B[0;32m~/Documents/университет/ryabov/taskgen/taskgen/generator.py\u001B[0m in \u001B[0;36mcompile_tex\u001B[0;34m(filename, folder)\u001B[0m\n\u001B[1;32m     97\u001B[0m     \u001B[0;32mexcept\u001B[0m \u001B[0mBaseException\u001B[0m \u001B[0;32mas\u001B[0m \u001B[0me\u001B[0m\u001B[0;34m:\u001B[0m\u001B[0;34m\u001B[0m\u001B[0;34m\u001B[0m\u001B[0m\n\u001B[0;32m---> 98\u001B[0;31m         \u001B[0mprinterror\u001B[0m\u001B[0;34m(\u001B[0m\u001B[0mfilename\u001B[0m\u001B[0;34m,\u001B[0m \u001B[0mfolder\u001B[0m\u001B[0;34m)\u001B[0m\u001B[0;34m\u001B[0m\u001B[0;34m\u001B[0m\u001B[0m\n\u001B[0m\u001B[1;32m     99\u001B[0m \u001B[0;34m\u001B[0m\u001B[0m\n",
      "\u001B[0;32m~/Documents/университет/ryabov/taskgen/taskgen/generator.py\u001B[0m in \u001B[0;36mprinterror\u001B[0;34m(filename, folder)\u001B[0m\n\u001B[1;32m     40\u001B[0m \u001B[0;34m\u001B[0m\u001B[0m\n\u001B[0;32m---> 41\u001B[0;31m     \u001B[0;32mif\u001B[0m \u001B[0mstr\u001B[0m\u001B[0;34m(\u001B[0m\u001B[0me\u001B[0m\u001B[0;34m)\u001B[0m \u001B[0;34m!=\u001B[0m \u001B[0;34m''\u001B[0m\u001B[0;34m:\u001B[0m\u001B[0;34m\u001B[0m\u001B[0;34m\u001B[0m\u001B[0m\n\u001B[0m\u001B[1;32m     42\u001B[0m         \u001B[0mprintlog\u001B[0m\u001B[0;34m(\u001B[0m\u001B[0;34m''\u001B[0m\u001B[0;34m,\u001B[0m \u001B[0mbasename_filename\u001B[0m\u001B[0;34m)\u001B[0m\u001B[0;34m\u001B[0m\u001B[0;34m\u001B[0m\u001B[0m\n",
      "\u001B[0;31mNameError\u001B[0m: name 'e' is not defined",
      "\nDuring handling of the above exception, another exception occurred:\n",
      "\u001B[0;31mNameError\u001B[0m                                 Traceback (most recent call last)",
      "\u001B[0;32m/var/folders/49/62z2vcl57lxfbnl807f_s_rh0000gn/T/ipykernel_43665/2975225509.py\u001B[0m in \u001B[0;36m<module>\u001B[0;34m\u001B[0m\n\u001B[0;32m----> 1\u001B[0;31m \u001B[0mcompile_file\u001B[0m\u001B[0;34m(\u001B[0m\u001B[0mfilename\u001B[0m \u001B[0;34m=\u001B[0m \u001B[0;34m'task1'\u001B[0m\u001B[0;34m,\u001B[0m \u001B[0mfolder\u001B[0m \u001B[0;34m=\u001B[0m \u001B[0;34m'./bank/task1/'\u001B[0m\u001B[0;34m)\u001B[0m\u001B[0;34m\u001B[0m\u001B[0;34m\u001B[0m\u001B[0m\n\u001B[0m",
      "\u001B[0;32m~/Documents/университет/ryabov/taskgen/taskgen/generator.py\u001B[0m in \u001B[0;36mcompile_file\u001B[0;34m(filename, folder)\u001B[0m\n\u001B[1;32m    524\u001B[0m             \u001B[0mshutil\u001B[0m\u001B[0;34m.\u001B[0m\u001B[0mcopyfile\u001B[0m\u001B[0;34m(\u001B[0m\u001B[0mimagepath\u001B[0m\u001B[0;34m,\u001B[0m \u001B[0mos\u001B[0m\u001B[0;34m.\u001B[0m\u001B[0mpath\u001B[0m\u001B[0;34m.\u001B[0m\u001B[0mjoin\u001B[0m\u001B[0;34m(\u001B[0m\u001B[0monly_problems_directory\u001B[0m\u001B[0;34m,\u001B[0m \u001B[0mimagepath\u001B[0m\u001B[0;34m)\u001B[0m\u001B[0;34m)\u001B[0m\u001B[0;34m\u001B[0m\u001B[0;34m\u001B[0m\u001B[0m\n\u001B[1;32m    525\u001B[0m     \u001B[0;32mexcept\u001B[0m \u001B[0mBaseException\u001B[0m \u001B[0;32mas\u001B[0m \u001B[0me\u001B[0m\u001B[0;34m:\u001B[0m\u001B[0;34m\u001B[0m\u001B[0;34m\u001B[0m\u001B[0m\n\u001B[0;32m--> 526\u001B[0;31m         \u001B[0mprinterror\u001B[0m\u001B[0;34m(\u001B[0m\u001B[0mfilename\u001B[0m\u001B[0;34m,\u001B[0m \u001B[0mfolder\u001B[0m\u001B[0;34m)\u001B[0m\u001B[0;34m\u001B[0m\u001B[0;34m\u001B[0m\u001B[0m\n\u001B[0m\u001B[1;32m    527\u001B[0m \u001B[0;34m\u001B[0m\u001B[0m\n\u001B[1;32m    528\u001B[0m     \u001B[0;31m# меняем активный каталог\u001B[0m\u001B[0;34m\u001B[0m\u001B[0;34m\u001B[0m\u001B[0m\n",
      "\u001B[0;32m~/Documents/университет/ryabov/taskgen/taskgen/generator.py\u001B[0m in \u001B[0;36mprinterror\u001B[0;34m(filename, folder)\u001B[0m\n\u001B[1;32m     39\u001B[0m         \u001B[0mlast_log_string\u001B[0m \u001B[0;34m=\u001B[0m \u001B[0;34m''\u001B[0m\u001B[0;34m.\u001B[0m\u001B[0mjoin\u001B[0m\u001B[0;34m(\u001B[0m\u001B[0mlogfile\u001B[0m\u001B[0;34m.\u001B[0m\u001B[0mreadlines\u001B[0m\u001B[0;34m(\u001B[0m\u001B[0;34m)\u001B[0m\u001B[0;34m[\u001B[0m\u001B[0;34m-\u001B[0m\u001B[0;36m50\u001B[0m\u001B[0;34m:\u001B[0m\u001B[0;34m]\u001B[0m\u001B[0;34m)\u001B[0m\u001B[0;34m\u001B[0m\u001B[0;34m\u001B[0m\u001B[0m\n\u001B[1;32m     40\u001B[0m \u001B[0;34m\u001B[0m\u001B[0m\n\u001B[0;32m---> 41\u001B[0;31m     \u001B[0;32mif\u001B[0m \u001B[0mstr\u001B[0m\u001B[0;34m(\u001B[0m\u001B[0me\u001B[0m\u001B[0;34m)\u001B[0m \u001B[0;34m!=\u001B[0m \u001B[0;34m''\u001B[0m\u001B[0;34m:\u001B[0m\u001B[0;34m\u001B[0m\u001B[0;34m\u001B[0m\u001B[0m\n\u001B[0m\u001B[1;32m     42\u001B[0m         \u001B[0mprintlog\u001B[0m\u001B[0;34m(\u001B[0m\u001B[0;34m''\u001B[0m\u001B[0;34m,\u001B[0m \u001B[0mbasename_filename\u001B[0m\u001B[0;34m)\u001B[0m\u001B[0;34m\u001B[0m\u001B[0;34m\u001B[0m\u001B[0m\n\u001B[1;32m     43\u001B[0m         \u001B[0mprintlog\u001B[0m\u001B[0;34m(\u001B[0m\u001B[0mstr\u001B[0m\u001B[0;34m(\u001B[0m\u001B[0me\u001B[0m\u001B[0;34m)\u001B[0m\u001B[0;34m,\u001B[0m \u001B[0mbasename_filename\u001B[0m\u001B[0;34m)\u001B[0m\u001B[0;34m\u001B[0m\u001B[0;34m\u001B[0m\u001B[0m\n",
      "\u001B[0;31mNameError\u001B[0m: name 'e' is not defined"
     ]
    }
   ],
   "source": [
    "compile_file(filename = 'task1', folder = './bank/task1/')"
   ]
  },
  {
   "cell_type": "code",
   "execution_count": null,
   "id": "4e301c04",
   "metadata": {},
   "outputs": [],
   "source": [
    "# начало нумерации билетов\n",
    "start_numeration = 100\n",
    "# кол-во генерируемых вариантов\n",
    "variant_count = 1\n",
    "# детерминированная генерация билетов\n",
    "deterministic = True"
   ]
  },
  {
   "cell_type": "code",
   "execution_count": null,
   "id": "e79c3377",
   "metadata": {},
   "outputs": [],
   "source": [
    "%%time\n",
    "generate_exam(start_numeration, variant_count, deterministic)"
   ]
  },
  {
   "cell_type": "code",
   "execution_count": null,
   "id": "341c2b14",
   "metadata": {},
   "outputs": [],
   "source": [
    "#gen_variant(variant_number = 1, deterministic = True, task_number_for_deterministic=0)"
   ]
  },
  {
   "cell_type": "code",
   "execution_count": null,
   "id": "64392528",
   "metadata": {},
   "outputs": [],
   "source": [
    "#html2pdf(os.path.join(os.getcwd(), 'RESULTS', 'html', 'only_problems'), \\\n",
    "#             os.path.join(os.getcwd(), 'RESULTS', 'pdf', 'only_problems'), in_one_page=True)"
   ]
  },
  {
   "cell_type": "markdown",
   "id": "647bb3f2",
   "metadata": {},
   "source": [
    "<p class=\"indent\">   Математического ожидания <!--l. 35--><span class=\"MathJax_Preview\" style=\"color: inherit; display: none;\"></span><span class=\"MathJax\" id=\"MathJax-Element-29-Frame\" tabindex=\"0\" style=\"position: relative;\" data-mathml=\"<math xmlns=&quot;http://www.w3.org/1998/Math/MathML&quot; display=&quot;inline&quot;><mi>&amp;#x1D53C;</mi><mo class=&quot;MathClass-open&quot; stretchy=&quot;false&quot;>(</mo><mi>X</mi><mo class=&quot;MathClass-close&quot; stretchy=&quot;false&quot;>)</mo></math>\" role=\"presentation\"><nobr aria-hidden=\"true\"><span class=\"math\" id=\"MathJax-Span-93\" style=\"width: 2.086em; display: inline-block;\"><span style=\"display: inline-block; position: relative; width: 1.964em; height: 0px; font-size: 105%;\"><span style=\"position: absolute; clip: rect(1.705em, 1001.92em, 2.915em, -1000em); top: -2.56em; left: 0em;\"><span class=\"mrow\" id=\"MathJax-Span-94\"><span class=\"mi\" id=\"MathJax-Span-95\" style=\"font-family: STIXGeneral;\">𝔼</span><span class=\"mo MathClass-open\" id=\"MathJax-Span-96\" style=\"font-family: STIXGeneral;\">(</span><span class=\"mi\" id=\"MathJax-Span-97\" style=\"font-family: STIXGeneral; font-style: italic;\">X<span style=\"display: inline-block; overflow: hidden; height: 1px; width: 0.044em;\"></span></span><span class=\"mo MathClass-close\" id=\"MathJax-Span-98\" style=\"font-family: STIXGeneral;\">)</span></span><span style=\"display: inline-block; width: 0px; height: 2.56em;\"></span></span></span><span style=\"display: inline-block; overflow: hidden; vertical-align: -0.248em; border-left: 0px solid; width: 0px; height: 1.021em;\"></span></span></nobr><span class=\"MJX_Assistive_MathML\" role=\"presentation\"><math xmlns=\"http://www.w3.org/1998/Math/MathML\" display=\"inline\"><mi>𝔼</mi><mo class=\"MathClass-open\" stretchy=\"false\">(</mo><mi>X</mi><mo class=\"MathClass-close\" stretchy=\"false\">)</mo></math></span></span><script type=\"math/mml\" id=\"MathJax-Element-29\"><math xmlns=\"http://www.w3.org/1998/Math/MathML\" display=\"inline\"><mi>𝔼</mi><mo class=\"MathClass-open\" stretchy=\"false\">(</mo><mi>X</mi><mo class=\"MathClass-close\" stretchy=\"false\">)</mo></math></script><br class=\"newline\">Дисперсия <!--l. 36--><span class=\"MathJax_Preview\" style=\"color: inherit; display: none;\"></span><span class=\"MathJax\" id=\"MathJax-Element-30-Frame\" tabindex=\"0\" style=\"position: relative;\" data-mathml=\"<math xmlns=&quot;http://www.w3.org/1998/Math/MathML&quot; display=&quot;inline&quot;><mi>&amp;#x1D54D;</mi><mi>a</mi><mi>r</mi><mo class=&quot;MathClass-open&quot; stretchy=&quot;false&quot;>(</mo><mi>X</mi><mo class=&quot;MathClass-close&quot; stretchy=&quot;false&quot;>)</mo></math>\" role=\"presentation\"><nobr aria-hidden=\"true\"><span class=\"math\" id=\"MathJax-Span-99\" style=\"width: 2.979em; display: inline-block;\"><span style=\"display: inline-block; position: relative; width: 2.798em; height: 0px; font-size: 105%;\"><span style=\"position: absolute; clip: rect(1.705em, 1002.75em, 2.915em, -1000em); top: -2.56em; left: 0em;\"><span class=\"mrow\" id=\"MathJax-Span-100\"><span class=\"mi\" id=\"MathJax-Span-101\" style=\"font-family: STIXGeneral;\">𝕍</span><span class=\"mi\" id=\"MathJax-Span-102\" style=\"font-family: STIXGeneral; font-style: italic;\">a</span><span class=\"mi\" id=\"MathJax-Span-103\" style=\"font-family: STIXGeneral; font-style: italic;\">r<span style=\"display: inline-block; overflow: hidden; height: 1px; width: 0.023em;\"></span></span><span class=\"mo MathClass-open\" id=\"MathJax-Span-104\" style=\"font-family: STIXGeneral;\">(</span><span class=\"mi\" id=\"MathJax-Span-105\" style=\"font-family: STIXGeneral; font-style: italic;\">X<span style=\"display: inline-block; overflow: hidden; height: 1px; width: 0.044em;\"></span></span><span class=\"mo MathClass-close\" id=\"MathJax-Span-106\" style=\"font-family: STIXGeneral;\">)</span></span><span style=\"display: inline-block; width: 0px; height: 2.56em;\"></span></span></span><span style=\"display: inline-block; overflow: hidden; vertical-align: -0.248em; border-left: 0px solid; width: 0px; height: 1.021em;\"></span></span></nobr><span class=\"MJX_Assistive_MathML\" role=\"presentation\"><math xmlns=\"http://www.w3.org/1998/Math/MathML\" display=\"inline\"><mi>𝕍</mi><mi>a</mi><mi>r</mi><mo class=\"MathClass-open\" stretchy=\"false\">(</mo><mi>X</mi><mo class=\"MathClass-close\" stretchy=\"false\">)</mo></math></span></span><script type=\"math/mml\" id=\"MathJax-Element-30\"><math xmlns=\"http://www.w3.org/1998/Math/MathML\" display=\"inline\"><mi>𝕍</mi><mi>a</mi><mi>r</mi><mo class=\"MathClass-open\" stretchy=\"false\">(</mo><mi>X</mi><mo class=\"MathClass-close\" stretchy=\"false\">)</mo></math></script>\n",
    "</p>"
   ]
  },
  {
   "cell_type": "code",
   "execution_count": 6,
   "id": "52c5bb2c",
   "metadata": {},
   "outputs": [
    {
     "data": {
      "text/plain": [
       "'\\\\{asd\\\\}'"
      ]
     },
     "execution_count": 6,
     "metadata": {},
     "output_type": "execute_result"
    }
   ],
   "source": [
    "'''\\\\{asd\\\\}'''"
   ]
  },
  {
   "cell_type": "code",
   "execution_count": null,
   "id": "1709722c",
   "metadata": {},
   "outputs": [],
   "source": []
  }
 ],
 "metadata": {
  "kernelspec": {
   "display_name": "Python 3 (ipykernel)",
   "language": "python",
   "name": "python3"
  },
  "language_info": {
   "codemirror_mode": {
    "name": "ipython",
    "version": 3
   },
   "file_extension": ".py",
   "mimetype": "text/x-python",
   "name": "python",
   "nbconvert_exporter": "python",
   "pygments_lexer": "ipython3",
   "version": "3.9.7"
  }
 },
 "nbformat": 4,
 "nbformat_minor": 5
}