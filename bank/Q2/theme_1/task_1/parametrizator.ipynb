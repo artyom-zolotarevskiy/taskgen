{
 "cells": [
  {
   "cell_type": "code",
   "execution_count": null,
   "id": "5d8d492f",
   "metadata": {},
   "outputs": [],
   "source": [
    "import numpy as np\n",
    "import math\n",
    "from sympy import *\n",
    "from cmath import *\n",
    "##############################\n",
    "from scipy.stats import *\n",
    "from sympy.stats import *\n",
    "##################################\n",
    "from itertools import *\n",
    "from more_itertools import *\n",
    "from scipy.special import *\n",
    "from fractions import Fraction\n",
    "import random\n",
    "##############################################\n",
    "import locale as loc\n",
    "from IPython.display import display, Math, Latex\n",
    "loc.setlocale(loc.LC_ALL, 'ru_RU')\n",
    "init_printing(use_unicode=True,use_latex=True)\n",
    "from scipy.stats import *\n",
    "import matplotlib.pyplot as plt\n",
    "from matplotlib import pyplot as plt, patches\n",
    "from matplotlib.patches import Rectangle\n",
    "import matplotlib.ticker as ticker\n",
    "from matplotlib import rcParams\n",
    "#########################\n",
    "import locale\n",
    "locale.setlocale(locale.LC_NUMERIC, 'ru_RU')\n",
    "plt.rcParams['axes.formatter.use_locale'] = True\n",
    "#########\n",
    "plt.rcParams[\"lines.linewidth\"] = 3.5\n",
    "#########\n",
    "plt.rcParams['font.size'] = 36\n",
    "plt.rcParams[\"font.family\"] = \"Times New Roman\"\n",
    "plt.rcParams['mathtext.fontset'] = 'cm'\n",
    "###################\n",
    "from sympy.combinatorics import *\n",
    "from sympy.interactive import init_printing\n",
    "init_printing(perm_cyclic=False, pretty_print=True)\n",
    "############################################\n",
    "import seaborn as sns\n",
    "import pandas as pd\n",
    "#########################################################\n",
    "from statsmodels.distributions.empirical_distribution import ECDF\n",
    "###########################################################\n",
    "from functools import reduce\n",
    "#################################\n",
    "from sympy.ntheory.generate import Sieve, primerange\n",
    "################################################\n",
    "from sympy import exp, log, E\n",
    "################\n",
    "import os\n",
    "import taskgen"
   ]
  },
  {
   "cell_type": "code",
   "execution_count": null,
   "id": "5c584019",
   "metadata": {},
   "outputs": [],
   "source": [
    "# копируем файл стилевого пакета TeX из папки настроек в текущую директорию\n",
    "taskgen.copy_taskgen_sty(folder=os.getcwd(), force=True)"
   ]
  },
  {
   "cell_type": "code",
   "execution_count": null,
   "id": "2eb8ef31",
   "metadata": {},
   "outputs": [],
   "source": [
    "def rrstr(x, n): # округление до n знаков после запятой\n",
    "    fmt = '{:.' + str(n) + 'f}'\n",
    "    return fmt.format(x).replace('.',',\\!')"
   ]
  },
  {
   "cell_type": "code",
   "execution_count": null,
   "id": "50571d90",
   "metadata": {},
   "outputs": [],
   "source": [
    "X = randint(2,7)"
   ]
  },
  {
   "cell_type": "code",
   "execution_count": null,
   "id": "fc59de8b",
   "metadata": {},
   "outputs": [],
   "source": [
    "def GET():\n",
    "    n = random.randint(3, 7)\n",
    "    N = random.randint(2 * n + 1, 20)\n",
    "    Omega = [k + 1 for k in range(N)]\n",
    "    Gen = X.rvs(size = N)\n",
    "    GenSample = list(Gen)\n",
    "    xo_Gen_mean = Gen.mean()\n",
    "    VarGen = Gen.var()\n",
    "    E_sample_mean = rrstr(xo_Gen_mean, 5)\n",
    "    Var_sample_mean = rrstr((VarGen / n) * ((N - n) / (N - 1)), 5)\n",
    "    table_data = [\n",
    "        ['k'] + list(range(1, N + 1)),\n",
    "        ['X(k)'] + GenSample\n",
    "    ]\n",
    "    \n",
    "    subs_variables = {\n",
    "        'N': N,\n",
    "        'n': n,\n",
    "        'table': taskgen.gen_table(table_data),\n",
    "        'E': E_sample_mean,\n",
    "        'VAR': Var_sample_mean\n",
    "    }\n",
    "    \n",
    "    return subs_variables"
   ]
  },
  {
   "cell_type": "code",
   "execution_count": null,
   "id": "125b7b99",
   "metadata": {},
   "outputs": [],
   "source": [
    "variables = GET()\n",
    "variables"
   ]
  },
  {
   "cell_type": "code",
   "execution_count": null,
   "id": "cd5aa71c",
   "metadata": {},
   "outputs": [],
   "source": [
    "Latex(variables['table'])"
   ]
  },
  {
   "cell_type": "code",
   "execution_count": null,
   "id": "e473419c",
   "metadata": {},
   "outputs": [],
   "source": [
    "variables['E']"
   ]
  },
  {
   "cell_type": "code",
   "execution_count": null,
   "id": "280d0275",
   "metadata": {},
   "outputs": [],
   "source": [
    "taskgen.show(variables)"
   ]
  },
  {
   "cell_type": "code",
   "execution_count": null,
   "id": "bbdc719f",
   "metadata": {},
   "outputs": [],
   "source": []
  }
 ],
 "metadata": {
  "kernelspec": {
   "display_name": "Python 3 (ipykernel)",
   "language": "python",
   "name": "python3"
  },
  "language_info": {
   "codemirror_mode": {
    "name": "ipython",
    "version": 3
   },
   "file_extension": ".py",
   "mimetype": "text/x-python",
   "name": "python",
   "nbconvert_exporter": "python",
   "pygments_lexer": "ipython3",
   "version": "3.9.7"
  }
 },
 "nbformat": 4,
 "nbformat_minor": 5
}
